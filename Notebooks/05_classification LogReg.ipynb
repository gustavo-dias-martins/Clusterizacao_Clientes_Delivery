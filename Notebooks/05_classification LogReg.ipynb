{
 "cells": [
  {
   "cell_type": "code",
   "execution_count": 1,
   "metadata": {},
   "outputs": [],
   "source": [
    "import pandas as pd\n",
    "\n",
    "DATA = '../Data/Customers_clustered.csv'\n",
    "\n",
    "df_clusterd = pd.read_csv(DATA)"
   ]
  },
  {
   "cell_type": "code",
   "execution_count": 2,
   "metadata": {},
   "outputs": [
    {
     "name": "stdout",
     "output_type": "stream",
     "text": [
      "<class 'pandas.core.frame.DataFrame'>\n",
      "RangeIndex: 2205 entries, 0 to 2204\n",
      "Data columns (total 36 columns):\n",
      " #   Column               Non-Null Count  Dtype  \n",
      "---  ------               --------------  -----  \n",
      " 0   Education            2205 non-null   object \n",
      " 1   Marital_Status       2205 non-null   object \n",
      " 2   Income               2205 non-null   float64\n",
      " 3   Kidhome              2205 non-null   int64  \n",
      " 4   Teenhome             2205 non-null   int64  \n",
      " 5   Recency              2205 non-null   int64  \n",
      " 6   MntWines             2205 non-null   int64  \n",
      " 7   MntFruits            2205 non-null   int64  \n",
      " 8   MntMeatProducts      2205 non-null   int64  \n",
      " 9   MntFishProducts      2205 non-null   int64  \n",
      " 10  MntSweetProducts     2205 non-null   int64  \n",
      " 11  MntGoldProds         2205 non-null   int64  \n",
      " 12  NumDealsPurchases    2205 non-null   int64  \n",
      " 13  NumWebPurchases      2205 non-null   int64  \n",
      " 14  NumCatalogPurchases  2205 non-null   int64  \n",
      " 15  NumStorePurchases    2205 non-null   int64  \n",
      " 16  NumWebVisitsMonth    2205 non-null   int64  \n",
      " 17  AcceptedCmp3         2205 non-null   int64  \n",
      " 18  AcceptedCmp4         2205 non-null   int64  \n",
      " 19  AcceptedCmp5         2205 non-null   int64  \n",
      " 20  AcceptedCmp1         2205 non-null   int64  \n",
      " 21  AcceptedCmp2         2205 non-null   int64  \n",
      " 22  Complain             2205 non-null   int64  \n",
      " 23  Response             2205 non-null   int64  \n",
      " 24  DaysSinceEnrolled    2205 non-null   int64  \n",
      " 25  YearsSinceEnrolled   2205 non-null   int64  \n",
      " 26  Age                  2205 non-null   int64  \n",
      " 27  AgeGroup             2205 non-null   object \n",
      " 28  MntTotal             2205 non-null   int64  \n",
      " 29  MntProds             2205 non-null   int64  \n",
      " 30  Children             2205 non-null   int64  \n",
      " 31  HasChildren          2205 non-null   int64  \n",
      " 32  AcceptedCmpTotal     2205 non-null   int64  \n",
      " 33  HasAcceptedCmp       2205 non-null   int64  \n",
      " 34  NumTotalPurchases    2205 non-null   int64  \n",
      " 35  cluster              2205 non-null   int64  \n",
      "dtypes: float64(1), int64(32), object(3)\n",
      "memory usage: 620.3+ KB\n"
     ]
    }
   ],
   "source": [
    "df_clusterd.info()"
   ]
  },
  {
   "cell_type": "code",
   "execution_count": 3,
   "metadata": {},
   "outputs": [],
   "source": [
    "X = df_clusterd.drop('Response', axis=1)\n",
    "y = df_clusterd['Response']"
   ]
  },
  {
   "cell_type": "code",
   "execution_count": 4,
   "metadata": {},
   "outputs": [],
   "source": [
    "#OneHotEncolder para colunas categóricas\n",
    "one_hot_cols = [\n",
    "    \"Education\",\n",
    "    \"Marital_Status\",\n",
    "    \"AgeGroup\",\n",
    "    \"HasChildren\",\n",
    "    \"HasAcceptedCmp\",\n",
    "    \"AcceptedCmp1\",\n",
    "    \"AcceptedCmp2\",\n",
    "    \"AcceptedCmp3\",\n",
    "    \"AcceptedCmp4\",\n",
    "    \"AcceptedCmp5\",\n",
    "    \"Complain\",\n",
    "    \"Kidhome\",\n",
    "    \"Teenhome\",\n",
    "    \"YearsSinceEnrolled\",\n",
    "    \"Children\",\n",
    "    \"AcceptedCmpTotal\",\n",
    "    'cluster'\n",
    "]\n",
    "\n",
    "#Standard para colunas com distribuição normal\n",
    "standard_cols = [\n",
    "    \"Income\",\n",
    "    \"Age\",\n",
    "]\n",
    "\n",
    "\n",
    "#PowerTransform para colunas que parecem potência, tem um decaimento muito acentuado\n",
    "power_cols = X.columns[\n",
    "   X.columns.str.startswith(\"Mnt\") | X.columns.str.startswith(\"Num\")\n",
    "].tolist()\n",
    "\n",
    "\n",
    "\n",
    "minmax_cols = [\n",
    "    col for col in X.columns if col not in one_hot_cols + standard_cols + power_cols\n",
    "]"
   ]
  },
  {
   "cell_type": "markdown",
   "metadata": {},
   "source": [
    "### Analisando o Modelo de Logistic Regression sem otimização de hiperparâmetro para ter uma ideia inicial antes de fazermos todo o procedimento de otimização"
   ]
  },
  {
   "cell_type": "code",
   "execution_count": 5,
   "metadata": {},
   "outputs": [
    {
     "data": {
      "text/html": [
       "<style>#sk-container-id-1 {color: black;}#sk-container-id-1 pre{padding: 0;}#sk-container-id-1 div.sk-toggleable {background-color: white;}#sk-container-id-1 label.sk-toggleable__label {cursor: pointer;display: block;width: 100%;margin-bottom: 0;padding: 0.3em;box-sizing: border-box;text-align: center;}#sk-container-id-1 label.sk-toggleable__label-arrow:before {content: \"▸\";float: left;margin-right: 0.25em;color: #696969;}#sk-container-id-1 label.sk-toggleable__label-arrow:hover:before {color: black;}#sk-container-id-1 div.sk-estimator:hover label.sk-toggleable__label-arrow:before {color: black;}#sk-container-id-1 div.sk-toggleable__content {max-height: 0;max-width: 0;overflow: hidden;text-align: left;background-color: #f0f8ff;}#sk-container-id-1 div.sk-toggleable__content pre {margin: 0.2em;color: black;border-radius: 0.25em;background-color: #f0f8ff;}#sk-container-id-1 input.sk-toggleable__control:checked~div.sk-toggleable__content {max-height: 200px;max-width: 100%;overflow: auto;}#sk-container-id-1 input.sk-toggleable__control:checked~label.sk-toggleable__label-arrow:before {content: \"▾\";}#sk-container-id-1 div.sk-estimator input.sk-toggleable__control:checked~label.sk-toggleable__label {background-color: #d4ebff;}#sk-container-id-1 div.sk-label input.sk-toggleable__control:checked~label.sk-toggleable__label {background-color: #d4ebff;}#sk-container-id-1 input.sk-hidden--visually {border: 0;clip: rect(1px 1px 1px 1px);clip: rect(1px, 1px, 1px, 1px);height: 1px;margin: -1px;overflow: hidden;padding: 0;position: absolute;width: 1px;}#sk-container-id-1 div.sk-estimator {font-family: monospace;background-color: #f0f8ff;border: 1px dotted black;border-radius: 0.25em;box-sizing: border-box;margin-bottom: 0.5em;}#sk-container-id-1 div.sk-estimator:hover {background-color: #d4ebff;}#sk-container-id-1 div.sk-parallel-item::after {content: \"\";width: 100%;border-bottom: 1px solid gray;flex-grow: 1;}#sk-container-id-1 div.sk-label:hover label.sk-toggleable__label {background-color: #d4ebff;}#sk-container-id-1 div.sk-serial::before {content: \"\";position: absolute;border-left: 1px solid gray;box-sizing: border-box;top: 0;bottom: 0;left: 50%;z-index: 0;}#sk-container-id-1 div.sk-serial {display: flex;flex-direction: column;align-items: center;background-color: white;padding-right: 0.2em;padding-left: 0.2em;position: relative;}#sk-container-id-1 div.sk-item {position: relative;z-index: 1;}#sk-container-id-1 div.sk-parallel {display: flex;align-items: stretch;justify-content: center;background-color: white;position: relative;}#sk-container-id-1 div.sk-item::before, #sk-container-id-1 div.sk-parallel-item::before {content: \"\";position: absolute;border-left: 1px solid gray;box-sizing: border-box;top: 0;bottom: 0;left: 50%;z-index: -1;}#sk-container-id-1 div.sk-parallel-item {display: flex;flex-direction: column;z-index: 1;position: relative;background-color: white;}#sk-container-id-1 div.sk-parallel-item:first-child::after {align-self: flex-end;width: 50%;}#sk-container-id-1 div.sk-parallel-item:last-child::after {align-self: flex-start;width: 50%;}#sk-container-id-1 div.sk-parallel-item:only-child::after {width: 0;}#sk-container-id-1 div.sk-dashed-wrapped {border: 1px dashed gray;margin: 0 0.4em 0.5em 0.4em;box-sizing: border-box;padding-bottom: 0.4em;background-color: white;}#sk-container-id-1 div.sk-label label {font-family: monospace;font-weight: bold;display: inline-block;line-height: 1.2em;}#sk-container-id-1 div.sk-label-container {text-align: center;}#sk-container-id-1 div.sk-container {/* jupyter's `normalize.less` sets `[hidden] { display: none; }` but bootstrap.min.css set `[hidden] { display: none !important; }` so we also need the `!important` here to be able to override the default hidden behavior on the sphinx rendered scikit-learn.org. See: https://github.com/scikit-learn/scikit-learn/issues/21755 */display: inline-block !important;position: relative;}#sk-container-id-1 div.sk-text-repr-fallback {display: none;}</style><div id=\"sk-container-id-1\" class=\"sk-top-container\"><div class=\"sk-text-repr-fallback\"><pre>Pipeline(steps=[(&#x27;preprocessing&#x27;,\n",
       "                 ColumnTransformer(transformers=[(&#x27;one-hot&#x27;, OneHotEncoder(),\n",
       "                                                  [&#x27;Education&#x27;,\n",
       "                                                   &#x27;Marital_Status&#x27;, &#x27;AgeGroup&#x27;,\n",
       "                                                   &#x27;HasChildren&#x27;,\n",
       "                                                   &#x27;HasAcceptedCmp&#x27;,\n",
       "                                                   &#x27;AcceptedCmp1&#x27;,\n",
       "                                                   &#x27;AcceptedCmp2&#x27;,\n",
       "                                                   &#x27;AcceptedCmp3&#x27;,\n",
       "                                                   &#x27;AcceptedCmp4&#x27;,\n",
       "                                                   &#x27;AcceptedCmp5&#x27;, &#x27;Complain&#x27;,\n",
       "                                                   &#x27;Kidhome&#x27;, &#x27;Teenhome&#x27;,\n",
       "                                                   &#x27;YearsSinceEnrolled&#x27;,\n",
       "                                                   &#x27;Children&#x27;,\n",
       "                                                   &#x27;AcceptedCmpTotal&#x27;,\n",
       "                                                   &#x27;cluster&#x27;]),\n",
       "                                                 (&#x27;standard&#x27;, Stan...\n",
       "                                                  [&#x27;MntWines&#x27;, &#x27;MntFruits&#x27;,\n",
       "                                                   &#x27;MntMeatProducts&#x27;,\n",
       "                                                   &#x27;MntFishProducts&#x27;,\n",
       "                                                   &#x27;MntSweetProducts&#x27;,\n",
       "                                                   &#x27;MntGoldProds&#x27;,\n",
       "                                                   &#x27;NumDealsPurchases&#x27;,\n",
       "                                                   &#x27;NumWebPurchases&#x27;,\n",
       "                                                   &#x27;NumCatalogPurchases&#x27;,\n",
       "                                                   &#x27;NumStorePurchases&#x27;,\n",
       "                                                   &#x27;NumWebVisitsMonth&#x27;,\n",
       "                                                   &#x27;MntTotal&#x27;, &#x27;MntProds&#x27;,\n",
       "                                                   &#x27;NumTotalPurchases&#x27;])])),\n",
       "                (&#x27;feature_selection&#x27;, SelectKBest()),\n",
       "                (&#x27;rus&#x27;, RandomUnderSampler(random_state=42)),\n",
       "                (&#x27;model&#x27;, LogisticRegression(random_state=42))])</pre><b>In a Jupyter environment, please rerun this cell to show the HTML representation or trust the notebook. <br />On GitHub, the HTML representation is unable to render, please try loading this page with nbviewer.org.</b></div><div class=\"sk-container\" hidden><div class=\"sk-item sk-dashed-wrapped\"><div class=\"sk-label-container\"><div class=\"sk-label sk-toggleable\"><input class=\"sk-toggleable__control sk-hidden--visually\" id=\"sk-estimator-id-1\" type=\"checkbox\" ><label for=\"sk-estimator-id-1\" class=\"sk-toggleable__label sk-toggleable__label-arrow\">Pipeline</label><div class=\"sk-toggleable__content\"><pre>Pipeline(steps=[(&#x27;preprocessing&#x27;,\n",
       "                 ColumnTransformer(transformers=[(&#x27;one-hot&#x27;, OneHotEncoder(),\n",
       "                                                  [&#x27;Education&#x27;,\n",
       "                                                   &#x27;Marital_Status&#x27;, &#x27;AgeGroup&#x27;,\n",
       "                                                   &#x27;HasChildren&#x27;,\n",
       "                                                   &#x27;HasAcceptedCmp&#x27;,\n",
       "                                                   &#x27;AcceptedCmp1&#x27;,\n",
       "                                                   &#x27;AcceptedCmp2&#x27;,\n",
       "                                                   &#x27;AcceptedCmp3&#x27;,\n",
       "                                                   &#x27;AcceptedCmp4&#x27;,\n",
       "                                                   &#x27;AcceptedCmp5&#x27;, &#x27;Complain&#x27;,\n",
       "                                                   &#x27;Kidhome&#x27;, &#x27;Teenhome&#x27;,\n",
       "                                                   &#x27;YearsSinceEnrolled&#x27;,\n",
       "                                                   &#x27;Children&#x27;,\n",
       "                                                   &#x27;AcceptedCmpTotal&#x27;,\n",
       "                                                   &#x27;cluster&#x27;]),\n",
       "                                                 (&#x27;standard&#x27;, Stan...\n",
       "                                                  [&#x27;MntWines&#x27;, &#x27;MntFruits&#x27;,\n",
       "                                                   &#x27;MntMeatProducts&#x27;,\n",
       "                                                   &#x27;MntFishProducts&#x27;,\n",
       "                                                   &#x27;MntSweetProducts&#x27;,\n",
       "                                                   &#x27;MntGoldProds&#x27;,\n",
       "                                                   &#x27;NumDealsPurchases&#x27;,\n",
       "                                                   &#x27;NumWebPurchases&#x27;,\n",
       "                                                   &#x27;NumCatalogPurchases&#x27;,\n",
       "                                                   &#x27;NumStorePurchases&#x27;,\n",
       "                                                   &#x27;NumWebVisitsMonth&#x27;,\n",
       "                                                   &#x27;MntTotal&#x27;, &#x27;MntProds&#x27;,\n",
       "                                                   &#x27;NumTotalPurchases&#x27;])])),\n",
       "                (&#x27;feature_selection&#x27;, SelectKBest()),\n",
       "                (&#x27;rus&#x27;, RandomUnderSampler(random_state=42)),\n",
       "                (&#x27;model&#x27;, LogisticRegression(random_state=42))])</pre></div></div></div><div class=\"sk-serial\"><div class=\"sk-item sk-dashed-wrapped\"><div class=\"sk-label-container\"><div class=\"sk-label sk-toggleable\"><input class=\"sk-toggleable__control sk-hidden--visually\" id=\"sk-estimator-id-2\" type=\"checkbox\" ><label for=\"sk-estimator-id-2\" class=\"sk-toggleable__label sk-toggleable__label-arrow\">preprocessing: ColumnTransformer</label><div class=\"sk-toggleable__content\"><pre>ColumnTransformer(transformers=[(&#x27;one-hot&#x27;, OneHotEncoder(),\n",
       "                                 [&#x27;Education&#x27;, &#x27;Marital_Status&#x27;, &#x27;AgeGroup&#x27;,\n",
       "                                  &#x27;HasChildren&#x27;, &#x27;HasAcceptedCmp&#x27;,\n",
       "                                  &#x27;AcceptedCmp1&#x27;, &#x27;AcceptedCmp2&#x27;,\n",
       "                                  &#x27;AcceptedCmp3&#x27;, &#x27;AcceptedCmp4&#x27;,\n",
       "                                  &#x27;AcceptedCmp5&#x27;, &#x27;Complain&#x27;, &#x27;Kidhome&#x27;,\n",
       "                                  &#x27;Teenhome&#x27;, &#x27;YearsSinceEnrolled&#x27;, &#x27;Children&#x27;,\n",
       "                                  &#x27;AcceptedCmpTotal&#x27;, &#x27;cluster&#x27;]),\n",
       "                                (&#x27;standard&#x27;, StandardScaler(),\n",
       "                                 [&#x27;Income&#x27;, &#x27;Age&#x27;]),\n",
       "                                (&#x27;minmax&#x27;, MinMaxScaler(),\n",
       "                                 [&#x27;Recency&#x27;, &#x27;DaysSinceEnrolled&#x27;]),\n",
       "                                (&#x27;power&#x27;, PowerTransformer(),\n",
       "                                 [&#x27;MntWines&#x27;, &#x27;MntFruits&#x27;, &#x27;MntMeatProducts&#x27;,\n",
       "                                  &#x27;MntFishProducts&#x27;, &#x27;MntSweetProducts&#x27;,\n",
       "                                  &#x27;MntGoldProds&#x27;, &#x27;NumDealsPurchases&#x27;,\n",
       "                                  &#x27;NumWebPurchases&#x27;, &#x27;NumCatalogPurchases&#x27;,\n",
       "                                  &#x27;NumStorePurchases&#x27;, &#x27;NumWebVisitsMonth&#x27;,\n",
       "                                  &#x27;MntTotal&#x27;, &#x27;MntProds&#x27;,\n",
       "                                  &#x27;NumTotalPurchases&#x27;])])</pre></div></div></div><div class=\"sk-parallel\"><div class=\"sk-parallel-item\"><div class=\"sk-item\"><div class=\"sk-label-container\"><div class=\"sk-label sk-toggleable\"><input class=\"sk-toggleable__control sk-hidden--visually\" id=\"sk-estimator-id-3\" type=\"checkbox\" ><label for=\"sk-estimator-id-3\" class=\"sk-toggleable__label sk-toggleable__label-arrow\">one-hot</label><div class=\"sk-toggleable__content\"><pre>[&#x27;Education&#x27;, &#x27;Marital_Status&#x27;, &#x27;AgeGroup&#x27;, &#x27;HasChildren&#x27;, &#x27;HasAcceptedCmp&#x27;, &#x27;AcceptedCmp1&#x27;, &#x27;AcceptedCmp2&#x27;, &#x27;AcceptedCmp3&#x27;, &#x27;AcceptedCmp4&#x27;, &#x27;AcceptedCmp5&#x27;, &#x27;Complain&#x27;, &#x27;Kidhome&#x27;, &#x27;Teenhome&#x27;, &#x27;YearsSinceEnrolled&#x27;, &#x27;Children&#x27;, &#x27;AcceptedCmpTotal&#x27;, &#x27;cluster&#x27;]</pre></div></div></div><div class=\"sk-serial\"><div class=\"sk-item\"><div class=\"sk-estimator sk-toggleable\"><input class=\"sk-toggleable__control sk-hidden--visually\" id=\"sk-estimator-id-4\" type=\"checkbox\" ><label for=\"sk-estimator-id-4\" class=\"sk-toggleable__label sk-toggleable__label-arrow\">OneHotEncoder</label><div class=\"sk-toggleable__content\"><pre>OneHotEncoder()</pre></div></div></div></div></div></div><div class=\"sk-parallel-item\"><div class=\"sk-item\"><div class=\"sk-label-container\"><div class=\"sk-label sk-toggleable\"><input class=\"sk-toggleable__control sk-hidden--visually\" id=\"sk-estimator-id-5\" type=\"checkbox\" ><label for=\"sk-estimator-id-5\" class=\"sk-toggleable__label sk-toggleable__label-arrow\">standard</label><div class=\"sk-toggleable__content\"><pre>[&#x27;Income&#x27;, &#x27;Age&#x27;]</pre></div></div></div><div class=\"sk-serial\"><div class=\"sk-item\"><div class=\"sk-estimator sk-toggleable\"><input class=\"sk-toggleable__control sk-hidden--visually\" id=\"sk-estimator-id-6\" type=\"checkbox\" ><label for=\"sk-estimator-id-6\" class=\"sk-toggleable__label sk-toggleable__label-arrow\">StandardScaler</label><div class=\"sk-toggleable__content\"><pre>StandardScaler()</pre></div></div></div></div></div></div><div class=\"sk-parallel-item\"><div class=\"sk-item\"><div class=\"sk-label-container\"><div class=\"sk-label sk-toggleable\"><input class=\"sk-toggleable__control sk-hidden--visually\" id=\"sk-estimator-id-7\" type=\"checkbox\" ><label for=\"sk-estimator-id-7\" class=\"sk-toggleable__label sk-toggleable__label-arrow\">minmax</label><div class=\"sk-toggleable__content\"><pre>[&#x27;Recency&#x27;, &#x27;DaysSinceEnrolled&#x27;]</pre></div></div></div><div class=\"sk-serial\"><div class=\"sk-item\"><div class=\"sk-estimator sk-toggleable\"><input class=\"sk-toggleable__control sk-hidden--visually\" id=\"sk-estimator-id-8\" type=\"checkbox\" ><label for=\"sk-estimator-id-8\" class=\"sk-toggleable__label sk-toggleable__label-arrow\">MinMaxScaler</label><div class=\"sk-toggleable__content\"><pre>MinMaxScaler()</pre></div></div></div></div></div></div><div class=\"sk-parallel-item\"><div class=\"sk-item\"><div class=\"sk-label-container\"><div class=\"sk-label sk-toggleable\"><input class=\"sk-toggleable__control sk-hidden--visually\" id=\"sk-estimator-id-9\" type=\"checkbox\" ><label for=\"sk-estimator-id-9\" class=\"sk-toggleable__label sk-toggleable__label-arrow\">power</label><div class=\"sk-toggleable__content\"><pre>[&#x27;MntWines&#x27;, &#x27;MntFruits&#x27;, &#x27;MntMeatProducts&#x27;, &#x27;MntFishProducts&#x27;, &#x27;MntSweetProducts&#x27;, &#x27;MntGoldProds&#x27;, &#x27;NumDealsPurchases&#x27;, &#x27;NumWebPurchases&#x27;, &#x27;NumCatalogPurchases&#x27;, &#x27;NumStorePurchases&#x27;, &#x27;NumWebVisitsMonth&#x27;, &#x27;MntTotal&#x27;, &#x27;MntProds&#x27;, &#x27;NumTotalPurchases&#x27;]</pre></div></div></div><div class=\"sk-serial\"><div class=\"sk-item\"><div class=\"sk-estimator sk-toggleable\"><input class=\"sk-toggleable__control sk-hidden--visually\" id=\"sk-estimator-id-10\" type=\"checkbox\" ><label for=\"sk-estimator-id-10\" class=\"sk-toggleable__label sk-toggleable__label-arrow\">PowerTransformer</label><div class=\"sk-toggleable__content\"><pre>PowerTransformer()</pre></div></div></div></div></div></div></div></div><div class=\"sk-item\"><div class=\"sk-estimator sk-toggleable\"><input class=\"sk-toggleable__control sk-hidden--visually\" id=\"sk-estimator-id-11\" type=\"checkbox\" ><label for=\"sk-estimator-id-11\" class=\"sk-toggleable__label sk-toggleable__label-arrow\">SelectKBest</label><div class=\"sk-toggleable__content\"><pre>SelectKBest()</pre></div></div></div><div class=\"sk-item\"><div class=\"sk-estimator sk-toggleable\"><input class=\"sk-toggleable__control sk-hidden--visually\" id=\"sk-estimator-id-12\" type=\"checkbox\" ><label for=\"sk-estimator-id-12\" class=\"sk-toggleable__label sk-toggleable__label-arrow\">RandomUnderSampler</label><div class=\"sk-toggleable__content\"><pre>RandomUnderSampler(random_state=42)</pre></div></div></div><div class=\"sk-item\"><div class=\"sk-estimator sk-toggleable\"><input class=\"sk-toggleable__control sk-hidden--visually\" id=\"sk-estimator-id-13\" type=\"checkbox\" ><label for=\"sk-estimator-id-13\" class=\"sk-toggleable__label sk-toggleable__label-arrow\">LogisticRegression</label><div class=\"sk-toggleable__content\"><pre>LogisticRegression(random_state=42)</pre></div></div></div></div></div></div></div>"
      ],
      "text/plain": [
       "Pipeline(steps=[('preprocessing',\n",
       "                 ColumnTransformer(transformers=[('one-hot', OneHotEncoder(),\n",
       "                                                  ['Education',\n",
       "                                                   'Marital_Status', 'AgeGroup',\n",
       "                                                   'HasChildren',\n",
       "                                                   'HasAcceptedCmp',\n",
       "                                                   'AcceptedCmp1',\n",
       "                                                   'AcceptedCmp2',\n",
       "                                                   'AcceptedCmp3',\n",
       "                                                   'AcceptedCmp4',\n",
       "                                                   'AcceptedCmp5', 'Complain',\n",
       "                                                   'Kidhome', 'Teenhome',\n",
       "                                                   'YearsSinceEnrolled',\n",
       "                                                   'Children',\n",
       "                                                   'AcceptedCmpTotal',\n",
       "                                                   'cluster']),\n",
       "                                                 ('standard', Stan...\n",
       "                                                  ['MntWines', 'MntFruits',\n",
       "                                                   'MntMeatProducts',\n",
       "                                                   'MntFishProducts',\n",
       "                                                   'MntSweetProducts',\n",
       "                                                   'MntGoldProds',\n",
       "                                                   'NumDealsPurchases',\n",
       "                                                   'NumWebPurchases',\n",
       "                                                   'NumCatalogPurchases',\n",
       "                                                   'NumStorePurchases',\n",
       "                                                   'NumWebVisitsMonth',\n",
       "                                                   'MntTotal', 'MntProds',\n",
       "                                                   'NumTotalPurchases'])])),\n",
       "                ('feature_selection', SelectKBest()),\n",
       "                ('rus', RandomUnderSampler(random_state=42)),\n",
       "                ('model', LogisticRegression(random_state=42))])"
      ]
     },
     "execution_count": 5,
     "metadata": {},
     "output_type": "execute_result"
    }
   ],
   "source": [
    "from sklearn.preprocessing import (\n",
    "    OneHotEncoder,\n",
    "    StandardScaler,\n",
    "    MinMaxScaler,\n",
    "    PowerTransformer,\n",
    ")\n",
    "from sklearn.compose import ColumnTransformer\n",
    "from sklearn.linear_model import LogisticRegression\n",
    "from sklearn.model_selection import StratifiedKFold\n",
    "from imblearn.pipeline import Pipeline  # atenção para o Pipeline do ImbLearn para dados desbalanceados\n",
    "from sklearn.feature_selection import SelectKBest, f_classif\n",
    "from imblearn.under_sampling import RandomUnderSampler\n",
    "from sklearn.model_selection import cross_validate\n",
    "\n",
    "RANDOM_STATE = 42\n",
    "\n",
    "skf = StratifiedKFold(n_splits=5, shuffle=True, random_state=RANDOM_STATE)\n",
    "\n",
    "\n",
    "\n",
    "preprocessing = ColumnTransformer(\n",
    "    [\n",
    "        (\"one-hot\", OneHotEncoder(), one_hot_cols),\n",
    "        (\"standard\", StandardScaler(), standard_cols),\n",
    "        (\"minmax\", MinMaxScaler(), minmax_cols),\n",
    "        (\"power\", PowerTransformer(), power_cols),\n",
    "    ]\n",
    ")\n",
    "\n",
    "pipeline_log_reg = Pipeline(\n",
    "    [\n",
    "        (\"preprocessing\", preprocessing),\n",
    "        (\"feature_selection\", SelectKBest(score_func=f_classif, k=10)),\n",
    "        (\"rus\", RandomUnderSampler(random_state=RANDOM_STATE)), #balanceando a base\n",
    "        (\"model\", LogisticRegression(random_state=RANDOM_STATE)),\n",
    "    ]\n",
    ")\n",
    "\n",
    "\n",
    "pipeline_log_reg.fit(X,y)"
   ]
  },
  {
   "cell_type": "code",
   "execution_count": 6,
   "metadata": {},
   "outputs": [
    {
     "data": {
      "text/plain": [
       "65"
      ]
     },
     "execution_count": 6,
     "metadata": {},
     "output_type": "execute_result"
    }
   ],
   "source": [
    "#Qunatidades de colunas que saíram do preprocessamento\n",
    "\n",
    "len(pipeline_log_reg[:-3].get_feature_names_out())"
   ]
  },
  {
   "cell_type": "code",
   "execution_count": 7,
   "metadata": {},
   "outputs": [
    {
     "data": {
      "text/plain": [
       "array(['one-hot__HasAcceptedCmp_0', 'one-hot__HasAcceptedCmp_1',\n",
       "       'one-hot__AcceptedCmp1_0', 'one-hot__AcceptedCmp1_1',\n",
       "       'one-hot__AcceptedCmp3_0', 'one-hot__AcceptedCmp3_1',\n",
       "       'one-hot__AcceptedCmp5_0', 'one-hot__AcceptedCmp5_1',\n",
       "       'one-hot__AcceptedCmpTotal_0', 'one-hot__AcceptedCmpTotal_3'],\n",
       "      dtype=object)"
      ]
     },
     "execution_count": 7,
     "metadata": {},
     "output_type": "execute_result"
    }
   ],
   "source": [
    "pipeline_log_reg[:-1].get_feature_names_out()"
   ]
  },
  {
   "cell_type": "code",
   "execution_count": 8,
   "metadata": {},
   "outputs": [
    {
     "data": {
      "image/png": "[encoded data removed]",
      "text/plain": [
       "<Figure size 640x480 with 1 Axes>"
      ]
     },
     "metadata": {},
     "output_type": "display_data"
    }
   ],
   "source": [
    "#ROC\n",
    "\n",
    "from sklearn.metrics import RocCurveDisplay\n",
    "from sklearn.model_selection import cross_val_predict\n",
    "\n",
    "y_pred = cross_val_predict(pipeline_log_reg,X,y, cv=skf, n_jobs=-1)\n",
    "\n",
    "roc=RocCurveDisplay.from_predictions(y,y_pred)"
   ]
  },
  {
   "cell_type": "code",
   "execution_count": 9,
   "metadata": {},
   "outputs": [
    {
     "data": {
      "image/png": "[encoded data removed]",
      "text/plain": [
       "<Figure size 640x480 with 1 Axes>"
      ]
     },
     "metadata": {},
     "output_type": "display_data"
    }
   ],
   "source": [
    "#Precision-Recall\n",
    "\n",
    "from sklearn.metrics import PrecisionRecallDisplay\n",
    "\n",
    "y_pred = cross_val_predict(pipeline_log_reg,X,y, cv=skf, n_jobs=-1, method='decision_function')\n",
    "\n",
    "prc=PrecisionRecallDisplay.from_predictions(y,y_pred)"
   ]
  },
  {
   "cell_type": "markdown",
   "metadata": {},
   "source": [
    "## Análise para entender os melhores parâmetros para esse modelo"
   ]
  },
  {
   "cell_type": "code",
   "execution_count": 10,
   "metadata": {},
   "outputs": [],
   "source": [
    "import numpy as np\n",
    "from sklearn.model_selection import GridSearchCV\n",
    "\n",
    "param_grid = {\n",
    "\n",
    "    \"feature_selection__k\": [10,15,20,25],\n",
    "    'model__C': np.logspace(-3,3,7),\n",
    "    'model__solver' : ['liblinear','saga','lbfgs'],\n",
    "    'model__penalty' : ['l1','l2','elasticnet','none']\n",
    "}\n",
    "\n",
    "grid_search = GridSearchCV(\n",
    "    pipeline_log_reg,\n",
    "    param_grid,\n",
    "    scoring=['roc_auc', 'average_precision', 'accuracy'],\n",
    "    n_jobs=-1,\n",
    "    refit='average_precision'\n",
    ")"
   ]
  },
  {
   "cell_type": "code",
   "execution_count": 11,
   "metadata": {},
   "outputs": [
    {
     "name": "stderr",
     "output_type": "stream",
     "text": [
      "c:\\Users\\gustavo.martins\\AppData\\Local\\Programs\\Python\\Python312\\Lib\\site-packages\\sklearn\\model_selection\\_validation.py:425: FitFailedWarning: \n",
      "700 fits failed out of a total of 1680.\n",
      "The score on these train-test partitions for these parameters will be set to nan.\n",
      "If these failures are not expected, you can try to debug them by setting error_score='raise'.\n",
      "\n",
      "Below are more details about the failures:\n",
      "--------------------------------------------------------------------------------\n",
      "140 fits failed with the following error:\n",
      "Traceback (most recent call last):\n",
      "  File \"c:\\Users\\gustavo.martins\\AppData\\Local\\Programs\\Python\\Python312\\Lib\\site-packages\\sklearn\\model_selection\\_validation.py\", line 729, in _fit_and_score\n",
      "    estimator.fit(X_train, y_train, **fit_params)\n",
      "  File \"c:\\Users\\gustavo.martins\\AppData\\Local\\Programs\\Python\\Python312\\Lib\\site-packages\\imblearn\\pipeline.py\", line 297, in fit\n",
      "    self._final_estimator.fit(Xt, yt, **fit_params_last_step)\n",
      "  File \"c:\\Users\\gustavo.martins\\AppData\\Local\\Programs\\Python\\Python312\\Lib\\site-packages\\sklearn\\base.py\", line 1152, in wrapper\n",
      "    return fit_method(estimator, *args, **kwargs)\n",
      "           ^^^^^^^^^^^^^^^^^^^^^^^^^^^^^^^^^^^^^^\n",
      "  File \"c:\\Users\\gustavo.martins\\AppData\\Local\\Programs\\Python\\Python312\\Lib\\site-packages\\sklearn\\linear_model\\_logistic.py\", line 1169, in fit\n",
      "    solver = _check_solver(self.solver, self.penalty, self.dual)\n",
      "             ^^^^^^^^^^^^^^^^^^^^^^^^^^^^^^^^^^^^^^^^^^^^^^^^^^^\n",
      "  File \"c:\\Users\\gustavo.martins\\AppData\\Local\\Programs\\Python\\Python312\\Lib\\site-packages\\sklearn\\linear_model\\_logistic.py\", line 56, in _check_solver\n",
      "    raise ValueError(\n",
      "ValueError: Solver lbfgs supports only 'l2' or 'none' penalties, got l1 penalty.\n",
      "\n",
      "--------------------------------------------------------------------------------\n",
      "140 fits failed with the following error:\n",
      "Traceback (most recent call last):\n",
      "  File \"c:\\Users\\gustavo.martins\\AppData\\Local\\Programs\\Python\\Python312\\Lib\\site-packages\\sklearn\\model_selection\\_validation.py\", line 729, in _fit_and_score\n",
      "    estimator.fit(X_train, y_train, **fit_params)\n",
      "  File \"c:\\Users\\gustavo.martins\\AppData\\Local\\Programs\\Python\\Python312\\Lib\\site-packages\\imblearn\\pipeline.py\", line 297, in fit\n",
      "    self._final_estimator.fit(Xt, yt, **fit_params_last_step)\n",
      "  File \"c:\\Users\\gustavo.martins\\AppData\\Local\\Programs\\Python\\Python312\\Lib\\site-packages\\sklearn\\base.py\", line 1152, in wrapper\n",
      "    return fit_method(estimator, *args, **kwargs)\n",
      "           ^^^^^^^^^^^^^^^^^^^^^^^^^^^^^^^^^^^^^^\n",
      "  File \"c:\\Users\\gustavo.martins\\AppData\\Local\\Programs\\Python\\Python312\\Lib\\site-packages\\sklearn\\linear_model\\_logistic.py\", line 1169, in fit\n",
      "    solver = _check_solver(self.solver, self.penalty, self.dual)\n",
      "             ^^^^^^^^^^^^^^^^^^^^^^^^^^^^^^^^^^^^^^^^^^^^^^^^^^^\n",
      "  File \"c:\\Users\\gustavo.martins\\AppData\\Local\\Programs\\Python\\Python312\\Lib\\site-packages\\sklearn\\linear_model\\_logistic.py\", line 66, in _check_solver\n",
      "    raise ValueError(\n",
      "ValueError: Only 'saga' solver supports elasticnet penalty, got solver=liblinear.\n",
      "\n",
      "--------------------------------------------------------------------------------\n",
      "140 fits failed with the following error:\n",
      "Traceback (most recent call last):\n",
      "  File \"c:\\Users\\gustavo.martins\\AppData\\Local\\Programs\\Python\\Python312\\Lib\\site-packages\\sklearn\\model_selection\\_validation.py\", line 729, in _fit_and_score\n",
      "    estimator.fit(X_train, y_train, **fit_params)\n",
      "  File \"c:\\Users\\gustavo.martins\\AppData\\Local\\Programs\\Python\\Python312\\Lib\\site-packages\\imblearn\\pipeline.py\", line 297, in fit\n",
      "    self._final_estimator.fit(Xt, yt, **fit_params_last_step)\n",
      "  File \"c:\\Users\\gustavo.martins\\AppData\\Local\\Programs\\Python\\Python312\\Lib\\site-packages\\sklearn\\base.py\", line 1152, in wrapper\n",
      "    return fit_method(estimator, *args, **kwargs)\n",
      "           ^^^^^^^^^^^^^^^^^^^^^^^^^^^^^^^^^^^^^^\n",
      "  File \"c:\\Users\\gustavo.martins\\AppData\\Local\\Programs\\Python\\Python312\\Lib\\site-packages\\sklearn\\linear_model\\_logistic.py\", line 1179, in fit\n",
      "    raise ValueError(\"l1_ratio must be specified when penalty is elasticnet.\")\n",
      "ValueError: l1_ratio must be specified when penalty is elasticnet.\n",
      "\n",
      "--------------------------------------------------------------------------------\n",
      "140 fits failed with the following error:\n",
      "Traceback (most recent call last):\n",
      "  File \"c:\\Users\\gustavo.martins\\AppData\\Local\\Programs\\Python\\Python312\\Lib\\site-packages\\sklearn\\model_selection\\_validation.py\", line 729, in _fit_and_score\n",
      "    estimator.fit(X_train, y_train, **fit_params)\n",
      "  File \"c:\\Users\\gustavo.martins\\AppData\\Local\\Programs\\Python\\Python312\\Lib\\site-packages\\imblearn\\pipeline.py\", line 297, in fit\n",
      "    self._final_estimator.fit(Xt, yt, **fit_params_last_step)\n",
      "  File \"c:\\Users\\gustavo.martins\\AppData\\Local\\Programs\\Python\\Python312\\Lib\\site-packages\\sklearn\\base.py\", line 1152, in wrapper\n",
      "    return fit_method(estimator, *args, **kwargs)\n",
      "           ^^^^^^^^^^^^^^^^^^^^^^^^^^^^^^^^^^^^^^\n",
      "  File \"c:\\Users\\gustavo.martins\\AppData\\Local\\Programs\\Python\\Python312\\Lib\\site-packages\\sklearn\\linear_model\\_logistic.py\", line 1169, in fit\n",
      "    solver = _check_solver(self.solver, self.penalty, self.dual)\n",
      "             ^^^^^^^^^^^^^^^^^^^^^^^^^^^^^^^^^^^^^^^^^^^^^^^^^^^\n",
      "  File \"c:\\Users\\gustavo.martins\\AppData\\Local\\Programs\\Python\\Python312\\Lib\\site-packages\\sklearn\\linear_model\\_logistic.py\", line 56, in _check_solver\n",
      "    raise ValueError(\n",
      "ValueError: Solver lbfgs supports only 'l2' or 'none' penalties, got elasticnet penalty.\n",
      "\n",
      "--------------------------------------------------------------------------------\n",
      "140 fits failed with the following error:\n",
      "Traceback (most recent call last):\n",
      "  File \"c:\\Users\\gustavo.martins\\AppData\\Local\\Programs\\Python\\Python312\\Lib\\site-packages\\sklearn\\model_selection\\_validation.py\", line 729, in _fit_and_score\n",
      "    estimator.fit(X_train, y_train, **fit_params)\n",
      "  File \"c:\\Users\\gustavo.martins\\AppData\\Local\\Programs\\Python\\Python312\\Lib\\site-packages\\imblearn\\pipeline.py\", line 297, in fit\n",
      "    self._final_estimator.fit(Xt, yt, **fit_params_last_step)\n",
      "  File \"c:\\Users\\gustavo.martins\\AppData\\Local\\Programs\\Python\\Python312\\Lib\\site-packages\\sklearn\\base.py\", line 1152, in wrapper\n",
      "    return fit_method(estimator, *args, **kwargs)\n",
      "           ^^^^^^^^^^^^^^^^^^^^^^^^^^^^^^^^^^^^^^\n",
      "  File \"c:\\Users\\gustavo.martins\\AppData\\Local\\Programs\\Python\\Python312\\Lib\\site-packages\\sklearn\\linear_model\\_logistic.py\", line 1169, in fit\n",
      "    solver = _check_solver(self.solver, self.penalty, self.dual)\n",
      "             ^^^^^^^^^^^^^^^^^^^^^^^^^^^^^^^^^^^^^^^^^^^^^^^^^^^\n",
      "  File \"c:\\Users\\gustavo.martins\\AppData\\Local\\Programs\\Python\\Python312\\Lib\\site-packages\\sklearn\\linear_model\\_logistic.py\", line 73, in _check_solver\n",
      "    raise ValueError(\"penalty='none' is not supported for the liblinear solver\")\n",
      "ValueError: penalty='none' is not supported for the liblinear solver\n",
      "\n",
      "  warnings.warn(some_fits_failed_message, FitFailedWarning)\n",
      "c:\\Users\\gustavo.martins\\AppData\\Local\\Programs\\Python\\Python312\\Lib\\site-packages\\sklearn\\model_selection\\_search.py:979: UserWarning: One or more of the test scores are non-finite: [0.5        0.5               nan 0.72298822 0.72298822 0.72298822\n",
      "        nan        nan        nan        nan 0.72217269 0.7222126\n",
      " 0.5        0.5               nan 0.72303482 0.7225822  0.7225822\n",
      "        nan        nan        nan        nan 0.72217269 0.7222126\n",
      " 0.71627038 0.71627038        nan 0.72170914 0.72066059 0.72192523\n",
      "        nan        nan        nan        nan 0.72217269 0.7222126\n",
      " 0.72280639 0.72148518        nan 0.7240032  0.72220472 0.72226129\n",
      "        nan        nan        nan        nan 0.72217269 0.7222126\n",
      " 0.72218068 0.72349391        nan 0.72217269 0.72349391 0.72085148\n",
      "        nan        nan        nan        nan 0.72217269 0.7222126\n",
      " 0.72217269 0.72217269        nan 0.72094796 0.72347725 0.72217269\n",
      "        nan        nan        nan        nan 0.72217269 0.7222126\n",
      " 0.72217269 0.72213279        nan 0.72339743 0.72217269 0.72217269\n",
      "        nan        nan        nan        nan 0.72217269 0.7222126\n",
      " 0.5        0.5               nan 0.74044942 0.74113633 0.74113633\n",
      "        nan        nan        nan        nan 0.79122879 0.79178938\n",
      " 0.5        0.5               nan 0.76187645 0.76610071 0.76609272\n",
      "        nan        nan        nan        nan 0.79122879 0.79178938\n",
      " 0.77683071 0.77677474        nan 0.78354874 0.78465445 0.78465445\n",
      "        nan        nan        nan        nan 0.79122879 0.79178938\n",
      " 0.78776361 0.78809452        nan 0.78843915 0.78839885 0.78839865\n",
      "        nan        nan        nan        nan 0.79122879 0.79178938\n",
      " 0.79156421 0.79132506        nan 0.79077126 0.79055517 0.79070672\n",
      "        nan        nan        nan        nan 0.79122879 0.79178938\n",
      " 0.79172434 0.79133235        nan 0.79162776 0.79126042 0.79164383\n",
      "        nan        nan        nan        nan 0.79122879 0.79178938\n",
      " 0.79185323 0.79124475        nan 0.79186141 0.79124465 0.79182949\n",
      "        nan        nan        nan        nan 0.79122879 0.79178938\n",
      " 0.5        0.5               nan 0.73976302 0.74041929 0.74041929\n",
      "        nan        nan        nan        nan 0.82122093 0.82172982\n",
      " 0.5        0.5               nan 0.76960692 0.77258239 0.77258239\n",
      "        nan        nan        nan        nan 0.82122093 0.82172982\n",
      " 0.80005818 0.8000499         nan 0.81035804 0.81126001 0.81127608\n",
      "        nan        nan        nan        nan 0.82122093 0.82172982\n",
      " 0.81947255 0.81983589        nan 0.82078678 0.82075445 0.82074637\n",
      "        nan        nan        nan        nan 0.82122093 0.82172982\n",
      " 0.82124596 0.82090945        nan 0.8212242  0.82101579 0.82113571\n",
      "        nan        nan        nan        nan 0.82122093 0.82172982\n",
      " 0.82168931 0.82110849        nan 0.82168133 0.82108494 0.82170538\n",
      "        nan        nan        nan        nan 0.82122093 0.82172982\n",
      " 0.82176194 0.82117264        nan 0.82167365 0.82115638 0.82178638\n",
      "        nan        nan        nan        nan 0.82122093 0.82172982\n",
      " 0.5        0.5               nan 0.74146184 0.74166956 0.74166956\n",
      "        nan        nan        nan        nan 0.86332873 0.86355158\n",
      " 0.5        0.5               nan 0.78299261 0.78546915 0.78546915\n",
      "        nan        nan        nan        nan 0.86332873 0.86355158\n",
      " 0.82982563 0.82983361        nan 0.84205643 0.84288171 0.84291383\n",
      "        nan        nan        nan        nan 0.86332873 0.86355158\n",
      " 0.86179765 0.86182239        nan 0.86200222 0.86188999 0.86187402\n",
      "        nan        nan        nan        nan 0.86332873 0.86355158\n",
      " 0.86380113 0.86317569        nan 0.86348558 0.86299772 0.86348598\n",
      "        nan        nan        nan        nan 0.86332873 0.86355158\n",
      " 0.86359089 0.86329671        nan 0.863637   0.86327227 0.86357324\n",
      "        nan        nan        nan        nan 0.86332873 0.86355158\n",
      " 0.86355109 0.8633445         nan 0.86358301 0.86332843 0.86355887\n",
      "        nan        nan        nan        nan 0.86332873 0.86355158]\n",
      "  warnings.warn(\n",
      "c:\\Users\\gustavo.martins\\AppData\\Local\\Programs\\Python\\Python312\\Lib\\site-packages\\sklearn\\model_selection\\_search.py:979: UserWarning: One or more of the test scores are non-finite: [0.15102041 0.15102041        nan 0.40391488 0.40391488 0.40391488\n",
      "        nan        nan        nan        nan 0.39225345 0.39246872\n",
      " 0.15102041 0.15102041        nan 0.40267034 0.40181082 0.40181082\n",
      "        nan        nan        nan        nan 0.39225345 0.39246872\n",
      " 0.34546384 0.34546384        nan 0.39631455 0.39561398 0.3957721\n",
      "        nan        nan        nan        nan 0.39225345 0.39246872\n",
      " 0.39506183 0.39483344        nan 0.39600352 0.39374123 0.39422051\n",
      "        nan        nan        nan        nan 0.39225345 0.39246872\n",
      " 0.39190697 0.39289085        nan 0.39225345 0.39289085 0.39202505\n",
      "        nan        nan        nan        nan 0.39225345 0.39246872\n",
      " 0.39225345 0.39225345        nan 0.3923106  0.39318532 0.39225345\n",
      "        nan        nan        nan        nan 0.39225345 0.39246872\n",
      " 0.39225345 0.39186068        nan 0.39257728 0.39225345 0.39225345\n",
      "        nan        nan        nan        nan 0.39225345 0.39246872\n",
      " 0.15102041 0.15102041        nan 0.42398116 0.42527655 0.42527655\n",
      "        nan        nan        nan        nan 0.46890734 0.46916292\n",
      " 0.15102041 0.15102041        nan 0.44370692 0.44953275 0.44953108\n",
      "        nan        nan        nan        nan 0.46890734 0.46916292\n",
      " 0.42238448 0.42222757        nan 0.46281484 0.46592878 0.46592878\n",
      "        nan        nan        nan        nan 0.46890734 0.46916292\n",
      " 0.46640997 0.46881141        nan 0.4693436  0.4697706  0.46985212\n",
      "        nan        nan        nan        nan 0.46890734 0.46916292\n",
      " 0.46875683 0.46932239        nan 0.47021712 0.46976879 0.46982953\n",
      "        nan        nan        nan        nan 0.46890734 0.46916292\n",
      " 0.46897642 0.46879336        nan 0.46938475 0.46917083 0.46947367\n",
      "        nan        nan        nan        nan 0.46890734 0.46916292\n",
      " 0.46947894 0.46892149        nan 0.46917524 0.46887428 0.46913161\n",
      "        nan        nan        nan        nan 0.46890734 0.46916292\n",
      " 0.15102041 0.15102041        nan 0.42299573 0.42458784 0.42458784\n",
      "        nan        nan        nan        nan 0.51519546 0.51787632\n",
      " 0.15102041 0.15102041        nan 0.4591659  0.46307778 0.46307778\n",
      "        nan        nan        nan        nan 0.51519546 0.51787632\n",
      " 0.46098575 0.46118257        nan 0.50712857 0.50969719 0.50971584\n",
      "        nan        nan        nan        nan 0.51519546 0.51787632\n",
      " 0.51429868 0.51644894        nan 0.51908882 0.51913263 0.51913702\n",
      "        nan        nan        nan        nan 0.51519546 0.51787632\n",
      " 0.51499867 0.51536515        nan 0.51841674 0.51889744 0.51822299\n",
      "        nan        nan        nan        nan 0.51519546 0.51787632\n",
      " 0.51647722 0.5156234         nan 0.51717135 0.51550795 0.51721635\n",
      "        nan        nan        nan        nan 0.51519546 0.51787632\n",
      " 0.51724441 0.51513541        nan 0.51690248 0.51496256 0.51724311\n",
      "        nan        nan        nan        nan 0.51519546 0.51787632\n",
      " 0.15102041 0.15102041        nan 0.41866221 0.41905605 0.41905605\n",
      "        nan        nan        nan        nan 0.58618359 0.58353641\n",
      " 0.15102041 0.15102041        nan 0.46777586 0.47077004 0.47077004\n",
      "        nan        nan        nan        nan 0.58618359 0.58353641\n",
      " 0.5026442  0.50266451        nan 0.54842703 0.55039387 0.55044274\n",
      "        nan        nan        nan        nan 0.58618359 0.58353641\n",
      " 0.57967397 0.57969479        nan 0.58311112 0.58233716 0.58202724\n",
      "        nan        nan        nan        nan 0.58618359 0.58353641\n",
      " 0.58448211 0.5842872         nan 0.58606074 0.58384931 0.58608724\n",
      "        nan        nan        nan        nan 0.58618359 0.58353641\n",
      " 0.58512272 0.58534458        nan 0.58503678 0.58593703 0.58483036\n",
      "        nan        nan        nan        nan 0.58618359 0.58353641\n",
      " 0.58527658 0.58634851        nan 0.5845356  0.58637262 0.58385362\n",
      "        nan        nan        nan        nan 0.58618359 0.58353641]\n",
      "  warnings.warn(\n",
      "c:\\Users\\gustavo.martins\\AppData\\Local\\Programs\\Python\\Python312\\Lib\\site-packages\\sklearn\\model_selection\\_search.py:979: UserWarning: One or more of the test scores are non-finite: [0.84897959 0.84897959        nan 0.81088435 0.81088435 0.81088435\n",
      "        nan        nan        nan        nan 0.83265306 0.83265306\n",
      " 0.84897959 0.42947846        nan 0.81088435 0.81088435 0.81088435\n",
      "        nan        nan        nan        nan 0.83265306 0.83265306\n",
      " 0.81088435 0.81088435        nan 0.81088435 0.81088435 0.81088435\n",
      "        nan        nan        nan        nan 0.83265306 0.83265306\n",
      " 0.8276644  0.8276644         nan 0.81723356 0.82086168 0.82086168\n",
      "        nan        nan        nan        nan 0.83265306 0.83265306\n",
      " 0.83265306 0.83265306        nan 0.83265306 0.83265306 0.83265306\n",
      "        nan        nan        nan        nan 0.83265306 0.83265306\n",
      " 0.83265306 0.83265306        nan 0.83265306 0.83265306 0.83265306\n",
      "        nan        nan        nan        nan 0.83265306 0.83265306\n",
      " 0.83265306 0.83265306        nan 0.83265306 0.83265306 0.83265306\n",
      "        nan        nan        nan        nan 0.83265306 0.83265306\n",
      " 0.84897959 0.84897959        nan 0.66621315 0.65034014 0.65034014\n",
      "        nan        nan        nan        nan 0.76371882 0.76326531\n",
      " 0.84897959 0.70975057        nan 0.71972789 0.71292517 0.71292517\n",
      "        nan        nan        nan        nan 0.76371882 0.76326531\n",
      " 0.74512472 0.74512472        nan 0.75873016 0.76054422 0.76054422\n",
      "        nan        nan        nan        nan 0.76371882 0.76326531\n",
      " 0.76326531 0.76417234        nan 0.76598639 0.76689342 0.76689342\n",
      "        nan        nan        nan        nan 0.76371882 0.76326531\n",
      " 0.76462585 0.76462585        nan 0.76507937 0.76507937 0.76507937\n",
      "        nan        nan        nan        nan 0.76371882 0.76326531\n",
      " 0.76326531 0.76371882        nan 0.76281179 0.76371882 0.76281179\n",
      "        nan        nan        nan        nan 0.76371882 0.76326531\n",
      " 0.76326531 0.76371882        nan 0.76326531 0.76417234 0.76326531\n",
      "        nan        nan        nan        nan 0.76371882 0.76326531\n",
      " 0.84897959 0.84897959        nan 0.66666667 0.65442177 0.65442177\n",
      "        nan        nan        nan        nan 0.76734694 0.76643991\n",
      " 0.84897959 0.70975057        nan 0.73197279 0.72834467 0.72834467\n",
      "        nan        nan        nan        nan 0.76734694 0.76643991\n",
      " 0.7569161  0.75646259        nan 0.78004535 0.78185941 0.78185941\n",
      "        nan        nan        nan        nan 0.76734694 0.76643991\n",
      " 0.76780045 0.76734694        nan 0.77097506 0.77142857 0.77188209\n",
      "        nan        nan        nan        nan 0.76734694 0.76643991\n",
      " 0.76870748 0.76643991        nan 0.76553288 0.76643991 0.76553288\n",
      "        nan        nan        nan        nan 0.76734694 0.76643991\n",
      " 0.76689342 0.76734694        nan 0.76689342 0.76734694 0.76689342\n",
      "        nan        nan        nan        nan 0.76734694 0.76643991\n",
      " 0.76643991 0.76734694        nan 0.76643991 0.76734694 0.76643991\n",
      "        nan        nan        nan        nan 0.76734694 0.76643991\n",
      " 0.84897959 0.84897959        nan 0.65442177 0.64988662 0.64988662\n",
      "        nan        nan        nan        nan 0.7877551  0.78730159\n",
      " 0.84897959 0.84897959        nan 0.73197279 0.73015873 0.73015873\n",
      "        nan        nan        nan        nan 0.7877551  0.78730159\n",
      " 0.75873016 0.75918367        nan 0.78594104 0.78548753 0.78548753\n",
      "        nan        nan        nan        nan 0.7877551  0.78730159\n",
      " 0.78548753 0.78548753        nan 0.79274376 0.79274376 0.79274376\n",
      "        nan        nan        nan        nan 0.7877551  0.78730159\n",
      " 0.7845805  0.7877551         nan 0.7877551  0.78956916 0.78956916\n",
      "        nan        nan        nan        nan 0.7877551  0.78730159\n",
      " 0.78730159 0.78730159        nan 0.78684807 0.7877551  0.78684807\n",
      "        nan        nan        nan        nan 0.7877551  0.78730159\n",
      " 0.7877551  0.7877551         nan 0.7877551  0.7877551  0.78730159\n",
      "        nan        nan        nan        nan 0.7877551  0.78730159]\n",
      "  warnings.warn(\n",
      "c:\\Users\\gustavo.martins\\AppData\\Local\\Programs\\Python\\Python312\\Lib\\site-packages\\sklearn\\linear_model\\_sag.py:350: ConvergenceWarning: The max_iter was reached which means the coef_ did not converge\n",
      "  warnings.warn(\n"
     ]
    },
    {
     "data": {
      "text/html": [
       "<style>#sk-container-id-2 {color: black;}#sk-container-id-2 pre{padding: 0;}#sk-container-id-2 div.sk-toggleable {background-color: white;}#sk-container-id-2 label.sk-toggleable__label {cursor: pointer;display: block;width: 100%;margin-bottom: 0;padding: 0.3em;box-sizing: border-box;text-align: center;}#sk-container-id-2 label.sk-toggleable__label-arrow:before {content: \"▸\";float: left;margin-right: 0.25em;color: #696969;}#sk-container-id-2 label.sk-toggleable__label-arrow:hover:before {color: black;}#sk-container-id-2 div.sk-estimator:hover label.sk-toggleable__label-arrow:before {color: black;}#sk-container-id-2 div.sk-toggleable__content {max-height: 0;max-width: 0;overflow: hidden;text-align: left;background-color: #f0f8ff;}#sk-container-id-2 div.sk-toggleable__content pre {margin: 0.2em;color: black;border-radius: 0.25em;background-color: #f0f8ff;}#sk-container-id-2 input.sk-toggleable__control:checked~div.sk-toggleable__content {max-height: 200px;max-width: 100%;overflow: auto;}#sk-container-id-2 input.sk-toggleable__control:checked~label.sk-toggleable__label-arrow:before {content: \"▾\";}#sk-container-id-2 div.sk-estimator input.sk-toggleable__control:checked~label.sk-toggleable__label {background-color: #d4ebff;}#sk-container-id-2 div.sk-label input.sk-toggleable__control:checked~label.sk-toggleable__label {background-color: #d4ebff;}#sk-container-id-2 input.sk-hidden--visually {border: 0;clip: rect(1px 1px 1px 1px);clip: rect(1px, 1px, 1px, 1px);height: 1px;margin: -1px;overflow: hidden;padding: 0;position: absolute;width: 1px;}#sk-container-id-2 div.sk-estimator {font-family: monospace;background-color: #f0f8ff;border: 1px dotted black;border-radius: 0.25em;box-sizing: border-box;margin-bottom: 0.5em;}#sk-container-id-2 div.sk-estimator:hover {background-color: #d4ebff;}#sk-container-id-2 div.sk-parallel-item::after {content: \"\";width: 100%;border-bottom: 1px solid gray;flex-grow: 1;}#sk-container-id-2 div.sk-label:hover label.sk-toggleable__label {background-color: #d4ebff;}#sk-container-id-2 div.sk-serial::before {content: \"\";position: absolute;border-left: 1px solid gray;box-sizing: border-box;top: 0;bottom: 0;left: 50%;z-index: 0;}#sk-container-id-2 div.sk-serial {display: flex;flex-direction: column;align-items: center;background-color: white;padding-right: 0.2em;padding-left: 0.2em;position: relative;}#sk-container-id-2 div.sk-item {position: relative;z-index: 1;}#sk-container-id-2 div.sk-parallel {display: flex;align-items: stretch;justify-content: center;background-color: white;position: relative;}#sk-container-id-2 div.sk-item::before, #sk-container-id-2 div.sk-parallel-item::before {content: \"\";position: absolute;border-left: 1px solid gray;box-sizing: border-box;top: 0;bottom: 0;left: 50%;z-index: -1;}#sk-container-id-2 div.sk-parallel-item {display: flex;flex-direction: column;z-index: 1;position: relative;background-color: white;}#sk-container-id-2 div.sk-parallel-item:first-child::after {align-self: flex-end;width: 50%;}#sk-container-id-2 div.sk-parallel-item:last-child::after {align-self: flex-start;width: 50%;}#sk-container-id-2 div.sk-parallel-item:only-child::after {width: 0;}#sk-container-id-2 div.sk-dashed-wrapped {border: 1px dashed gray;margin: 0 0.4em 0.5em 0.4em;box-sizing: border-box;padding-bottom: 0.4em;background-color: white;}#sk-container-id-2 div.sk-label label {font-family: monospace;font-weight: bold;display: inline-block;line-height: 1.2em;}#sk-container-id-2 div.sk-label-container {text-align: center;}#sk-container-id-2 div.sk-container {/* jupyter's `normalize.less` sets `[hidden] { display: none; }` but bootstrap.min.css set `[hidden] { display: none !important; }` so we also need the `!important` here to be able to override the default hidden behavior on the sphinx rendered scikit-learn.org. See: https://github.com/scikit-learn/scikit-learn/issues/21755 */display: inline-block !important;position: relative;}#sk-container-id-2 div.sk-text-repr-fallback {display: none;}</style><div id=\"sk-container-id-2\" class=\"sk-top-container\"><div class=\"sk-text-repr-fallback\"><pre>GridSearchCV(estimator=Pipeline(steps=[(&#x27;preprocessing&#x27;,\n",
       "                                        ColumnTransformer(transformers=[(&#x27;one-hot&#x27;,\n",
       "                                                                         OneHotEncoder(),\n",
       "                                                                         [&#x27;Education&#x27;,\n",
       "                                                                          &#x27;Marital_Status&#x27;,\n",
       "                                                                          &#x27;AgeGroup&#x27;,\n",
       "                                                                          &#x27;HasChildren&#x27;,\n",
       "                                                                          &#x27;HasAcceptedCmp&#x27;,\n",
       "                                                                          &#x27;AcceptedCmp1&#x27;,\n",
       "                                                                          &#x27;AcceptedCmp2&#x27;,\n",
       "                                                                          &#x27;AcceptedCmp3&#x27;,\n",
       "                                                                          &#x27;AcceptedCmp4&#x27;,\n",
       "                                                                          &#x27;AcceptedCmp5&#x27;,\n",
       "                                                                          &#x27;Complain&#x27;,\n",
       "                                                                          &#x27;Kidhome&#x27;,\n",
       "                                                                          &#x27;Teenhome&#x27;,\n",
       "                                                                          &#x27;YearsSinceEnrolled&#x27;,\n",
       "                                                                          &#x27;Children&#x27;,\n",
       "                                                                          &#x27;AcceptedCmpTotal&#x27;,\n",
       "                                                                          &#x27;clus...\n",
       "                                        RandomUnderSampler(random_state=42)),\n",
       "                                       (&#x27;model&#x27;,\n",
       "                                        LogisticRegression(random_state=42))]),\n",
       "             n_jobs=-1,\n",
       "             param_grid={&#x27;feature_selection__k&#x27;: [10, 15, 20, 25],\n",
       "                         &#x27;model__C&#x27;: array([1.e-03, 1.e-02, 1.e-01, 1.e+00, 1.e+01, 1.e+02, 1.e+03]),\n",
       "                         &#x27;model__penalty&#x27;: [&#x27;l1&#x27;, &#x27;l2&#x27;, &#x27;elasticnet&#x27;, &#x27;none&#x27;],\n",
       "                         &#x27;model__solver&#x27;: [&#x27;liblinear&#x27;, &#x27;saga&#x27;, &#x27;lbfgs&#x27;]},\n",
       "             refit=&#x27;average_precision&#x27;,\n",
       "             scoring=[&#x27;roc_auc&#x27;, &#x27;average_precision&#x27;, &#x27;accuracy&#x27;])</pre><b>In a Jupyter environment, please rerun this cell to show the HTML representation or trust the notebook. <br />On GitHub, the HTML representation is unable to render, please try loading this page with nbviewer.org.</b></div><div class=\"sk-container\" hidden><div class=\"sk-item sk-dashed-wrapped\"><div class=\"sk-label-container\"><div class=\"sk-label sk-toggleable\"><input class=\"sk-toggleable__control sk-hidden--visually\" id=\"sk-estimator-id-14\" type=\"checkbox\" ><label for=\"sk-estimator-id-14\" class=\"sk-toggleable__label sk-toggleable__label-arrow\">GridSearchCV</label><div class=\"sk-toggleable__content\"><pre>GridSearchCV(estimator=Pipeline(steps=[(&#x27;preprocessing&#x27;,\n",
       "                                        ColumnTransformer(transformers=[(&#x27;one-hot&#x27;,\n",
       "                                                                         OneHotEncoder(),\n",
       "                                                                         [&#x27;Education&#x27;,\n",
       "                                                                          &#x27;Marital_Status&#x27;,\n",
       "                                                                          &#x27;AgeGroup&#x27;,\n",
       "                                                                          &#x27;HasChildren&#x27;,\n",
       "                                                                          &#x27;HasAcceptedCmp&#x27;,\n",
       "                                                                          &#x27;AcceptedCmp1&#x27;,\n",
       "                                                                          &#x27;AcceptedCmp2&#x27;,\n",
       "                                                                          &#x27;AcceptedCmp3&#x27;,\n",
       "                                                                          &#x27;AcceptedCmp4&#x27;,\n",
       "                                                                          &#x27;AcceptedCmp5&#x27;,\n",
       "                                                                          &#x27;Complain&#x27;,\n",
       "                                                                          &#x27;Kidhome&#x27;,\n",
       "                                                                          &#x27;Teenhome&#x27;,\n",
       "                                                                          &#x27;YearsSinceEnrolled&#x27;,\n",
       "                                                                          &#x27;Children&#x27;,\n",
       "                                                                          &#x27;AcceptedCmpTotal&#x27;,\n",
       "                                                                          &#x27;clus...\n",
       "                                        RandomUnderSampler(random_state=42)),\n",
       "                                       (&#x27;model&#x27;,\n",
       "                                        LogisticRegression(random_state=42))]),\n",
       "             n_jobs=-1,\n",
       "             param_grid={&#x27;feature_selection__k&#x27;: [10, 15, 20, 25],\n",
       "                         &#x27;model__C&#x27;: array([1.e-03, 1.e-02, 1.e-01, 1.e+00, 1.e+01, 1.e+02, 1.e+03]),\n",
       "                         &#x27;model__penalty&#x27;: [&#x27;l1&#x27;, &#x27;l2&#x27;, &#x27;elasticnet&#x27;, &#x27;none&#x27;],\n",
       "                         &#x27;model__solver&#x27;: [&#x27;liblinear&#x27;, &#x27;saga&#x27;, &#x27;lbfgs&#x27;]},\n",
       "             refit=&#x27;average_precision&#x27;,\n",
       "             scoring=[&#x27;roc_auc&#x27;, &#x27;average_precision&#x27;, &#x27;accuracy&#x27;])</pre></div></div></div><div class=\"sk-parallel\"><div class=\"sk-parallel-item\"><div class=\"sk-item\"><div class=\"sk-label-container\"><div class=\"sk-label sk-toggleable\"><input class=\"sk-toggleable__control sk-hidden--visually\" id=\"sk-estimator-id-15\" type=\"checkbox\" ><label for=\"sk-estimator-id-15\" class=\"sk-toggleable__label sk-toggleable__label-arrow\">estimator: Pipeline</label><div class=\"sk-toggleable__content\"><pre>Pipeline(steps=[(&#x27;preprocessing&#x27;,\n",
       "                 ColumnTransformer(transformers=[(&#x27;one-hot&#x27;, OneHotEncoder(),\n",
       "                                                  [&#x27;Education&#x27;,\n",
       "                                                   &#x27;Marital_Status&#x27;, &#x27;AgeGroup&#x27;,\n",
       "                                                   &#x27;HasChildren&#x27;,\n",
       "                                                   &#x27;HasAcceptedCmp&#x27;,\n",
       "                                                   &#x27;AcceptedCmp1&#x27;,\n",
       "                                                   &#x27;AcceptedCmp2&#x27;,\n",
       "                                                   &#x27;AcceptedCmp3&#x27;,\n",
       "                                                   &#x27;AcceptedCmp4&#x27;,\n",
       "                                                   &#x27;AcceptedCmp5&#x27;, &#x27;Complain&#x27;,\n",
       "                                                   &#x27;Kidhome&#x27;, &#x27;Teenhome&#x27;,\n",
       "                                                   &#x27;YearsSinceEnrolled&#x27;,\n",
       "                                                   &#x27;Children&#x27;,\n",
       "                                                   &#x27;AcceptedCmpTotal&#x27;,\n",
       "                                                   &#x27;cluster&#x27;]),\n",
       "                                                 (&#x27;standard&#x27;, Stan...\n",
       "                                                  [&#x27;MntWines&#x27;, &#x27;MntFruits&#x27;,\n",
       "                                                   &#x27;MntMeatProducts&#x27;,\n",
       "                                                   &#x27;MntFishProducts&#x27;,\n",
       "                                                   &#x27;MntSweetProducts&#x27;,\n",
       "                                                   &#x27;MntGoldProds&#x27;,\n",
       "                                                   &#x27;NumDealsPurchases&#x27;,\n",
       "                                                   &#x27;NumWebPurchases&#x27;,\n",
       "                                                   &#x27;NumCatalogPurchases&#x27;,\n",
       "                                                   &#x27;NumStorePurchases&#x27;,\n",
       "                                                   &#x27;NumWebVisitsMonth&#x27;,\n",
       "                                                   &#x27;MntTotal&#x27;, &#x27;MntProds&#x27;,\n",
       "                                                   &#x27;NumTotalPurchases&#x27;])])),\n",
       "                (&#x27;feature_selection&#x27;, SelectKBest()),\n",
       "                (&#x27;rus&#x27;, RandomUnderSampler(random_state=42)),\n",
       "                (&#x27;model&#x27;, LogisticRegression(random_state=42))])</pre></div></div></div><div class=\"sk-serial\"><div class=\"sk-item\"><div class=\"sk-serial\"><div class=\"sk-item sk-dashed-wrapped\"><div class=\"sk-label-container\"><div class=\"sk-label sk-toggleable\"><input class=\"sk-toggleable__control sk-hidden--visually\" id=\"sk-estimator-id-16\" type=\"checkbox\" ><label for=\"sk-estimator-id-16\" class=\"sk-toggleable__label sk-toggleable__label-arrow\">preprocessing: ColumnTransformer</label><div class=\"sk-toggleable__content\"><pre>ColumnTransformer(transformers=[(&#x27;one-hot&#x27;, OneHotEncoder(),\n",
       "                                 [&#x27;Education&#x27;, &#x27;Marital_Status&#x27;, &#x27;AgeGroup&#x27;,\n",
       "                                  &#x27;HasChildren&#x27;, &#x27;HasAcceptedCmp&#x27;,\n",
       "                                  &#x27;AcceptedCmp1&#x27;, &#x27;AcceptedCmp2&#x27;,\n",
       "                                  &#x27;AcceptedCmp3&#x27;, &#x27;AcceptedCmp4&#x27;,\n",
       "                                  &#x27;AcceptedCmp5&#x27;, &#x27;Complain&#x27;, &#x27;Kidhome&#x27;,\n",
       "                                  &#x27;Teenhome&#x27;, &#x27;YearsSinceEnrolled&#x27;, &#x27;Children&#x27;,\n",
       "                                  &#x27;AcceptedCmpTotal&#x27;, &#x27;cluster&#x27;]),\n",
       "                                (&#x27;standard&#x27;, StandardScaler(),\n",
       "                                 [&#x27;Income&#x27;, &#x27;Age&#x27;]),\n",
       "                                (&#x27;minmax&#x27;, MinMaxScaler(),\n",
       "                                 [&#x27;Recency&#x27;, &#x27;DaysSinceEnrolled&#x27;]),\n",
       "                                (&#x27;power&#x27;, PowerTransformer(),\n",
       "                                 [&#x27;MntWines&#x27;, &#x27;MntFruits&#x27;, &#x27;MntMeatProducts&#x27;,\n",
       "                                  &#x27;MntFishProducts&#x27;, &#x27;MntSweetProducts&#x27;,\n",
       "                                  &#x27;MntGoldProds&#x27;, &#x27;NumDealsPurchases&#x27;,\n",
       "                                  &#x27;NumWebPurchases&#x27;, &#x27;NumCatalogPurchases&#x27;,\n",
       "                                  &#x27;NumStorePurchases&#x27;, &#x27;NumWebVisitsMonth&#x27;,\n",
       "                                  &#x27;MntTotal&#x27;, &#x27;MntProds&#x27;,\n",
       "                                  &#x27;NumTotalPurchases&#x27;])])</pre></div></div></div><div class=\"sk-parallel\"><div class=\"sk-parallel-item\"><div class=\"sk-item\"><div class=\"sk-label-container\"><div class=\"sk-label sk-toggleable\"><input class=\"sk-toggleable__control sk-hidden--visually\" id=\"sk-estimator-id-17\" type=\"checkbox\" ><label for=\"sk-estimator-id-17\" class=\"sk-toggleable__label sk-toggleable__label-arrow\">one-hot</label><div class=\"sk-toggleable__content\"><pre>[&#x27;Education&#x27;, &#x27;Marital_Status&#x27;, &#x27;AgeGroup&#x27;, &#x27;HasChildren&#x27;, &#x27;HasAcceptedCmp&#x27;, &#x27;AcceptedCmp1&#x27;, &#x27;AcceptedCmp2&#x27;, &#x27;AcceptedCmp3&#x27;, &#x27;AcceptedCmp4&#x27;, &#x27;AcceptedCmp5&#x27;, &#x27;Complain&#x27;, &#x27;Kidhome&#x27;, &#x27;Teenhome&#x27;, &#x27;YearsSinceEnrolled&#x27;, &#x27;Children&#x27;, &#x27;AcceptedCmpTotal&#x27;, &#x27;cluster&#x27;]</pre></div></div></div><div class=\"sk-serial\"><div class=\"sk-item\"><div class=\"sk-estimator sk-toggleable\"><input class=\"sk-toggleable__control sk-hidden--visually\" id=\"sk-estimator-id-18\" type=\"checkbox\" ><label for=\"sk-estimator-id-18\" class=\"sk-toggleable__label sk-toggleable__label-arrow\">OneHotEncoder</label><div class=\"sk-toggleable__content\"><pre>OneHotEncoder()</pre></div></div></div></div></div></div><div class=\"sk-parallel-item\"><div class=\"sk-item\"><div class=\"sk-label-container\"><div class=\"sk-label sk-toggleable\"><input class=\"sk-toggleable__control sk-hidden--visually\" id=\"sk-estimator-id-19\" type=\"checkbox\" ><label for=\"sk-estimator-id-19\" class=\"sk-toggleable__label sk-toggleable__label-arrow\">standard</label><div class=\"sk-toggleable__content\"><pre>[&#x27;Income&#x27;, &#x27;Age&#x27;]</pre></div></div></div><div class=\"sk-serial\"><div class=\"sk-item\"><div class=\"sk-estimator sk-toggleable\"><input class=\"sk-toggleable__control sk-hidden--visually\" id=\"sk-estimator-id-20\" type=\"checkbox\" ><label for=\"sk-estimator-id-20\" class=\"sk-toggleable__label sk-toggleable__label-arrow\">StandardScaler</label><div class=\"sk-toggleable__content\"><pre>StandardScaler()</pre></div></div></div></div></div></div><div class=\"sk-parallel-item\"><div class=\"sk-item\"><div class=\"sk-label-container\"><div class=\"sk-label sk-toggleable\"><input class=\"sk-toggleable__control sk-hidden--visually\" id=\"sk-estimator-id-21\" type=\"checkbox\" ><label for=\"sk-estimator-id-21\" class=\"sk-toggleable__label sk-toggleable__label-arrow\">minmax</label><div class=\"sk-toggleable__content\"><pre>[&#x27;Recency&#x27;, &#x27;DaysSinceEnrolled&#x27;]</pre></div></div></div><div class=\"sk-serial\"><div class=\"sk-item\"><div class=\"sk-estimator sk-toggleable\"><input class=\"sk-toggleable__control sk-hidden--visually\" id=\"sk-estimator-id-22\" type=\"checkbox\" ><label for=\"sk-estimator-id-22\" class=\"sk-toggleable__label sk-toggleable__label-arrow\">MinMaxScaler</label><div class=\"sk-toggleable__content\"><pre>MinMaxScaler()</pre></div></div></div></div></div></div><div class=\"sk-parallel-item\"><div class=\"sk-item\"><div class=\"sk-label-container\"><div class=\"sk-label sk-toggleable\"><input class=\"sk-toggleable__control sk-hidden--visually\" id=\"sk-estimator-id-23\" type=\"checkbox\" ><label for=\"sk-estimator-id-23\" class=\"sk-toggleable__label sk-toggleable__label-arrow\">power</label><div class=\"sk-toggleable__content\"><pre>[&#x27;MntWines&#x27;, &#x27;MntFruits&#x27;, &#x27;MntMeatProducts&#x27;, &#x27;MntFishProducts&#x27;, &#x27;MntSweetProducts&#x27;, &#x27;MntGoldProds&#x27;, &#x27;NumDealsPurchases&#x27;, &#x27;NumWebPurchases&#x27;, &#x27;NumCatalogPurchases&#x27;, &#x27;NumStorePurchases&#x27;, &#x27;NumWebVisitsMonth&#x27;, &#x27;MntTotal&#x27;, &#x27;MntProds&#x27;, &#x27;NumTotalPurchases&#x27;]</pre></div></div></div><div class=\"sk-serial\"><div class=\"sk-item\"><div class=\"sk-estimator sk-toggleable\"><input class=\"sk-toggleable__control sk-hidden--visually\" id=\"sk-estimator-id-24\" type=\"checkbox\" ><label for=\"sk-estimator-id-24\" class=\"sk-toggleable__label sk-toggleable__label-arrow\">PowerTransformer</label><div class=\"sk-toggleable__content\"><pre>PowerTransformer()</pre></div></div></div></div></div></div></div></div><div class=\"sk-item\"><div class=\"sk-estimator sk-toggleable\"><input class=\"sk-toggleable__control sk-hidden--visually\" id=\"sk-estimator-id-25\" type=\"checkbox\" ><label for=\"sk-estimator-id-25\" class=\"sk-toggleable__label sk-toggleable__label-arrow\">SelectKBest</label><div class=\"sk-toggleable__content\"><pre>SelectKBest()</pre></div></div></div><div class=\"sk-item\"><div class=\"sk-estimator sk-toggleable\"><input class=\"sk-toggleable__control sk-hidden--visually\" id=\"sk-estimator-id-26\" type=\"checkbox\" ><label for=\"sk-estimator-id-26\" class=\"sk-toggleable__label sk-toggleable__label-arrow\">RandomUnderSampler</label><div class=\"sk-toggleable__content\"><pre>RandomUnderSampler(random_state=42)</pre></div></div></div><div class=\"sk-item\"><div class=\"sk-estimator sk-toggleable\"><input class=\"sk-toggleable__control sk-hidden--visually\" id=\"sk-estimator-id-27\" type=\"checkbox\" ><label for=\"sk-estimator-id-27\" class=\"sk-toggleable__label sk-toggleable__label-arrow\">LogisticRegression</label><div class=\"sk-toggleable__content\"><pre>LogisticRegression(random_state=42)</pre></div></div></div></div></div></div></div></div></div></div></div></div>"
      ],
      "text/plain": [
       "GridSearchCV(estimator=Pipeline(steps=[('preprocessing',\n",
       "                                        ColumnTransformer(transformers=[('one-hot',\n",
       "                                                                         OneHotEncoder(),\n",
       "                                                                         ['Education',\n",
       "                                                                          'Marital_Status',\n",
       "                                                                          'AgeGroup',\n",
       "                                                                          'HasChildren',\n",
       "                                                                          'HasAcceptedCmp',\n",
       "                                                                          'AcceptedCmp1',\n",
       "                                                                          'AcceptedCmp2',\n",
       "                                                                          'AcceptedCmp3',\n",
       "                                                                          'AcceptedCmp4',\n",
       "                                                                          'AcceptedCmp5',\n",
       "                                                                          'Complain',\n",
       "                                                                          'Kidhome',\n",
       "                                                                          'Teenhome',\n",
       "                                                                          'YearsSinceEnrolled',\n",
       "                                                                          'Children',\n",
       "                                                                          'AcceptedCmpTotal',\n",
       "                                                                          'clus...\n",
       "                                        RandomUnderSampler(random_state=42)),\n",
       "                                       ('model',\n",
       "                                        LogisticRegression(random_state=42))]),\n",
       "             n_jobs=-1,\n",
       "             param_grid={'feature_selection__k': [10, 15, 20, 25],\n",
       "                         'model__C': array([1.e-03, 1.e-02, 1.e-01, 1.e+00, 1.e+01, 1.e+02, 1.e+03]),\n",
       "                         'model__penalty': ['l1', 'l2', 'elasticnet', 'none'],\n",
       "                         'model__solver': ['liblinear', 'saga', 'lbfgs']},\n",
       "             refit='average_precision',\n",
       "             scoring=['roc_auc', 'average_precision', 'accuracy'])"
      ]
     },
     "execution_count": 11,
     "metadata": {},
     "output_type": "execute_result"
    }
   ],
   "source": [
    "#O warning resultante é devido a combinação de solver e penalty que não é prevista na própria documentação\n",
    "grid_search.fit(X,y)"
   ]
  },
  {
   "cell_type": "code",
   "execution_count": 12,
   "metadata": {},
   "outputs": [
    {
     "data": {
      "text/plain": [
       "{'feature_selection__k': 25,\n",
       " 'model__C': 1000.0,\n",
       " 'model__penalty': 'l2',\n",
       " 'model__solver': 'saga'}"
      ]
     },
     "execution_count": 12,
     "metadata": {},
     "output_type": "execute_result"
    }
   ],
   "source": [
    "grid_search.best_params_"
   ]
  },
  {
   "cell_type": "code",
   "execution_count": 13,
   "metadata": {},
   "outputs": [
    {
     "data": {
      "text/plain": [
       "0.5863726150989814"
      ]
     },
     "execution_count": 13,
     "metadata": {},
     "output_type": "execute_result"
    }
   ],
   "source": [
    "grid_search.best_score_"
   ]
  },
  {
   "cell_type": "code",
   "execution_count": 14,
   "metadata": {},
   "outputs": [
    {
     "name": "stdout",
     "output_type": "stream",
     "text": [
      "mean_fit_time\n",
      "std_fit_time\n",
      "mean_score_time\n",
      "std_score_time\n",
      "param_feature_selection__k\n",
      "param_model__C\n",
      "param_model__penalty\n",
      "param_model__solver\n",
      "params\n",
      "split0_test_roc_auc\n",
      "split1_test_roc_auc\n",
      "split2_test_roc_auc\n",
      "split3_test_roc_auc\n",
      "split4_test_roc_auc\n",
      "mean_test_roc_auc\n",
      "std_test_roc_auc\n",
      "rank_test_roc_auc\n",
      "split0_test_average_precision\n",
      "split1_test_average_precision\n",
      "split2_test_average_precision\n",
      "split3_test_average_precision\n",
      "split4_test_average_precision\n",
      "mean_test_average_precision\n",
      "std_test_average_precision\n",
      "rank_test_average_precision\n",
      "split0_test_accuracy\n",
      "split1_test_accuracy\n",
      "split2_test_accuracy\n",
      "split3_test_accuracy\n",
      "split4_test_accuracy\n",
      "mean_test_accuracy\n",
      "std_test_accuracy\n",
      "rank_test_accuracy\n"
     ]
    }
   ],
   "source": [
    "print(*grid_search.cv_results_.keys(), sep='\\n')"
   ]
  },
  {
   "cell_type": "markdown",
   "metadata": {},
   "source": [
    "#### Melhores valores das combinações"
   ]
  },
  {
   "cell_type": "code",
   "execution_count": 15,
   "metadata": {},
   "outputs": [
    {
     "data": {
      "text/plain": [
       "0.5863726150989814"
      ]
     },
     "execution_count": 15,
     "metadata": {},
     "output_type": "execute_result"
    }
   ],
   "source": [
    "np.nanmax(grid_search.cv_results_['mean_test_average_precision'])"
   ]
  },
  {
   "cell_type": "code",
   "execution_count": 16,
   "metadata": {},
   "outputs": [
    {
     "data": {
      "text/plain": [
       "0.8638011298232545"
      ]
     },
     "execution_count": 16,
     "metadata": {},
     "output_type": "execute_result"
    }
   ],
   "source": [
    "np.nanmax(grid_search.cv_results_['mean_test_roc_auc'])"
   ]
  },
  {
   "cell_type": "code",
   "execution_count": 17,
   "metadata": {},
   "outputs": [
    {
     "data": {
      "text/plain": [
       "0.8489795918367348"
      ]
     },
     "execution_count": 17,
     "metadata": {},
     "output_type": "execute_result"
    }
   ],
   "source": [
    "np.nanmax(grid_search.cv_results_['mean_test_accuracy'])"
   ]
  },
  {
   "cell_type": "code",
   "execution_count": 18,
   "metadata": {},
   "outputs": [
    {
     "data": {
      "text/plain": [
       "{'feature_selection__k': 25,\n",
       " 'model__C': 1000.0,\n",
       " 'model__penalty': 'l2',\n",
       " 'model__solver': 'saga'}"
      ]
     },
     "execution_count": 18,
     "metadata": {},
     "output_type": "execute_result"
    }
   ],
   "source": [
    "grid_search.cv_results_['params'][np.nanargmax(grid_search.cv_results_['mean_test_average_precision'])]"
   ]
  },
  {
   "cell_type": "code",
   "execution_count": 19,
   "metadata": {},
   "outputs": [
    {
     "data": {
      "text/plain": [
       "{'feature_selection__k': 25,\n",
       " 'model__C': 10.0,\n",
       " 'model__penalty': 'l1',\n",
       " 'model__solver': 'liblinear'}"
      ]
     },
     "execution_count": 19,
     "metadata": {},
     "output_type": "execute_result"
    }
   ],
   "source": [
    "grid_search.cv_results_['params'][np.nanargmax(grid_search.cv_results_['mean_test_roc_auc'])]"
   ]
  },
  {
   "cell_type": "code",
   "execution_count": 20,
   "metadata": {},
   "outputs": [
    {
     "data": {
      "text/plain": [
       "{'feature_selection__k': 10,\n",
       " 'model__C': 0.001,\n",
       " 'model__penalty': 'l1',\n",
       " 'model__solver': 'liblinear'}"
      ]
     },
     "execution_count": 20,
     "metadata": {},
     "output_type": "execute_result"
    }
   ],
   "source": [
    "grid_search.cv_results_['params'][np.nanargmax(grid_search.cv_results_['mean_test_accuracy'])]"
   ]
  },
  {
   "cell_type": "code",
   "execution_count": 21,
   "metadata": {},
   "outputs": [],
   "source": [
    "df_results_gs = pd.DataFrame(\n",
    "        {\n",
    "            'auprc': grid_search.cv_results_['mean_test_average_precision'],\n",
    "            'auroc': grid_search.cv_results_['mean_test_roc_auc'],\n",
    "            'accuracy': grid_search.cv_results_['mean_test_accuracy'],\n",
    "        }\n",
    "\n",
    ")"
   ]
  },
  {
   "cell_type": "code",
   "execution_count": 22,
   "metadata": {},
   "outputs": [
    {
     "data": {
      "text/plain": [
       "<Axes: >"
      ]
     },
     "execution_count": 22,
     "metadata": {},
     "output_type": "execute_result"
    },
    {
     "data": {
      "image/png": "[encoded data removed]",
      "text/plain": [
       "<Figure size 640x480 with 1 Axes>"
      ]
     },
     "metadata": {},
     "output_type": "display_data"
    }
   ],
   "source": [
    "import matplotlib.pyplot as plt\n",
    "import seaborn as sns\n",
    "\n",
    "sns.boxplot(\n",
    "    data=df_results_gs,\n",
    "    showmeans=True\n",
    ")"
   ]
  },
  {
   "cell_type": "code",
   "execution_count": 23,
   "metadata": {},
   "outputs": [
    {
     "data": {
      "text/plain": [
       "{'feature_selection__k': 25,\n",
       " 'model__C': 1000.0,\n",
       " 'model__penalty': 'l2',\n",
       " 'model__solver': 'saga'}"
      ]
     },
     "execution_count": 23,
     "metadata": {},
     "output_type": "execute_result"
    }
   ],
   "source": [
    "grid_search.best_params_"
   ]
  },
  {
   "cell_type": "code",
   "execution_count": 24,
   "metadata": {},
   "outputs": [],
   "source": [
    "pipeline_log_reg_best = Pipeline(\n",
    "    [\n",
    "        (\"preprocessing\", preprocessing),\n",
    "        (\"feature_selection\", SelectKBest(score_func=f_classif, k=grid_search.best_params_['feature_selection__k'])),\n",
    "        (\"rus\", RandomUnderSampler(random_state=RANDOM_STATE)), #balanceando a base\n",
    "        (\"model\", LogisticRegression(\n",
    "            random_state=RANDOM_STATE, \n",
    "            C= grid_search.best_params_['model__C'],\n",
    "            penalty= grid_search.best_params_['model__penalty'],\n",
    "            solver= grid_search.best_params_['model__solver']\n",
    "            )),\n",
    "    ]\n",
    ")\n",
    "\n",
    "scores = cross_validate(\n",
    "    pipeline_log_reg_best,\n",
    "    X,\n",
    "    y,\n",
    "    cv=skf,\n",
    "    scoring=[\"accuracy\", \"precision\", \"recall\", \"roc_auc\", \"average_precision\"],\n",
    "    n_jobs=-1\n",
    ")"
   ]
  },
  {
   "cell_type": "code",
   "execution_count": 25,
   "metadata": {},
   "outputs": [
    {
     "data": {
      "text/plain": [
       "{'fit_time': array([0.2308073 , 0.24710155, 0.23642254, 0.25351787, 0.23477221]),\n",
       " 'score_time': array([0.06401277, 0.05832624, 0.0648489 , 0.06416154, 0.06401753]),\n",
       " 'test_accuracy': array([0.75283447, 0.7755102 , 0.76870748, 0.80272109, 0.75056689]),\n",
       " 'test_precision': array([0.34782609, 0.37096774, 0.36641221, 0.416     , 0.35333333]),\n",
       " 'test_recall': array([0.71641791, 0.68656716, 0.71641791, 0.78787879, 0.8030303 ]),\n",
       " 'test_roc_auc': array([0.83240881, 0.83055312, 0.83755687, 0.89379798, 0.85371717]),\n",
       " 'test_average_precision': array([0.57409474, 0.57116889, 0.51929956, 0.66347353, 0.56752647])}"
      ]
     },
     "execution_count": 25,
     "metadata": {},
     "output_type": "execute_result"
    }
   ],
   "source": [
    "scores"
   ]
  },
  {
   "cell_type": "code",
   "execution_count": 26,
   "metadata": {},
   "outputs": [
    {
     "data": {
      "text/html": [
       "<div>\n",
       "<style scoped>\n",
       "    .dataframe tbody tr th:only-of-type {\n",
       "        vertical-align: middle;\n",
       "    }\n",
       "\n",
       "    .dataframe tbody tr th {\n",
       "        vertical-align: top;\n",
       "    }\n",
       "\n",
       "    .dataframe thead th {\n",
       "        text-align: right;\n",
       "    }\n",
       "</style>\n",
       "<table border=\"1\" class=\"dataframe\">\n",
       "  <thead>\n",
       "    <tr style=\"text-align: right;\">\n",
       "      <th></th>\n",
       "      <th>fit_time</th>\n",
       "      <th>score_time</th>\n",
       "      <th>test_accuracy</th>\n",
       "      <th>test_precision</th>\n",
       "      <th>test_recall</th>\n",
       "      <th>test_roc_auc</th>\n",
       "      <th>test_average_precision</th>\n",
       "      <th>time</th>\n",
       "    </tr>\n",
       "  </thead>\n",
       "  <tbody>\n",
       "    <tr>\n",
       "      <th>0</th>\n",
       "      <td>0.230807</td>\n",
       "      <td>0.064013</td>\n",
       "      <td>0.752834</td>\n",
       "      <td>0.347826</td>\n",
       "      <td>0.716418</td>\n",
       "      <td>0.832409</td>\n",
       "      <td>0.574095</td>\n",
       "      <td>0.294820</td>\n",
       "    </tr>\n",
       "    <tr>\n",
       "      <th>1</th>\n",
       "      <td>0.247102</td>\n",
       "      <td>0.058326</td>\n",
       "      <td>0.775510</td>\n",
       "      <td>0.370968</td>\n",
       "      <td>0.686567</td>\n",
       "      <td>0.830553</td>\n",
       "      <td>0.571169</td>\n",
       "      <td>0.305428</td>\n",
       "    </tr>\n",
       "    <tr>\n",
       "      <th>2</th>\n",
       "      <td>0.236423</td>\n",
       "      <td>0.064849</td>\n",
       "      <td>0.768707</td>\n",
       "      <td>0.366412</td>\n",
       "      <td>0.716418</td>\n",
       "      <td>0.837557</td>\n",
       "      <td>0.519300</td>\n",
       "      <td>0.301271</td>\n",
       "    </tr>\n",
       "    <tr>\n",
       "      <th>3</th>\n",
       "      <td>0.253518</td>\n",
       "      <td>0.064162</td>\n",
       "      <td>0.802721</td>\n",
       "      <td>0.416000</td>\n",
       "      <td>0.787879</td>\n",
       "      <td>0.893798</td>\n",
       "      <td>0.663474</td>\n",
       "      <td>0.317679</td>\n",
       "    </tr>\n",
       "    <tr>\n",
       "      <th>4</th>\n",
       "      <td>0.234772</td>\n",
       "      <td>0.064018</td>\n",
       "      <td>0.750567</td>\n",
       "      <td>0.353333</td>\n",
       "      <td>0.803030</td>\n",
       "      <td>0.853717</td>\n",
       "      <td>0.567526</td>\n",
       "      <td>0.298790</td>\n",
       "    </tr>\n",
       "  </tbody>\n",
       "</table>\n",
       "</div>"
      ],
      "text/plain": [
       "   fit_time  score_time  test_accuracy  test_precision  test_recall  \\\n",
       "0  0.230807    0.064013       0.752834        0.347826     0.716418   \n",
       "1  0.247102    0.058326       0.775510        0.370968     0.686567   \n",
       "2  0.236423    0.064849       0.768707        0.366412     0.716418   \n",
       "3  0.253518    0.064162       0.802721        0.416000     0.787879   \n",
       "4  0.234772    0.064018       0.750567        0.353333     0.803030   \n",
       "\n",
       "   test_roc_auc  test_average_precision      time  \n",
       "0      0.832409                0.574095  0.294820  \n",
       "1      0.830553                0.571169  0.305428  \n",
       "2      0.837557                0.519300  0.301271  \n",
       "3      0.893798                0.663474  0.317679  \n",
       "4      0.853717                0.567526  0.298790  "
      ]
     },
     "execution_count": 26,
     "metadata": {},
     "output_type": "execute_result"
    }
   ],
   "source": [
    "scores['time'] = scores['fit_time'] + scores['score_time']\n",
    "\n",
    "df_scores_best = pd.DataFrame(scores)\n",
    "\n",
    "df_scores_best"
   ]
  },
  {
   "cell_type": "code",
   "execution_count": 27,
   "metadata": {},
   "outputs": [
    {
     "name": "stderr",
     "output_type": "stream",
     "text": [
      "C:\\Users\\gustavo.martins\\AppData\\Local\\Temp\\ipykernel_39160\\4226099603.py:9: UserWarning: set_ticklabels() should only be used with a fixed number of ticks, i.e. after set_ticks() or using a FixedLocator.\n",
      "  b.set_xticklabels(b.get_xticklabels(), fontsize=7)\n",
      "C:\\Users\\gustavo.martins\\AppData\\Local\\Temp\\ipykernel_39160\\4226099603.py:9: UserWarning: set_ticklabels() should only be used with a fixed number of ticks, i.e. after set_ticks() or using a FixedLocator.\n",
      "  b.set_xticklabels(b.get_xticklabels(), fontsize=7)\n",
      "C:\\Users\\gustavo.martins\\AppData\\Local\\Temp\\ipykernel_39160\\4226099603.py:9: UserWarning: set_ticklabels() should only be used with a fixed number of ticks, i.e. after set_ticks() or using a FixedLocator.\n",
      "  b.set_xticklabels(b.get_xticklabels(), fontsize=7)\n",
      "C:\\Users\\gustavo.martins\\AppData\\Local\\Temp\\ipykernel_39160\\4226099603.py:9: UserWarning: set_ticklabels() should only be used with a fixed number of ticks, i.e. after set_ticks() or using a FixedLocator.\n",
      "  b.set_xticklabels(b.get_xticklabels(), fontsize=7)\n",
      "C:\\Users\\gustavo.martins\\AppData\\Local\\Temp\\ipykernel_39160\\4226099603.py:9: UserWarning: set_ticklabels() should only be used with a fixed number of ticks, i.e. after set_ticks() or using a FixedLocator.\n",
      "  b.set_xticklabels(b.get_xticklabels(), fontsize=7)\n",
      "C:\\Users\\gustavo.martins\\AppData\\Local\\Temp\\ipykernel_39160\\4226099603.py:9: UserWarning: set_ticklabels() should only be used with a fixed number of ticks, i.e. after set_ticks() or using a FixedLocator.\n",
      "  b.set_xticklabels(b.get_xticklabels(), fontsize=7)\n"
     ]
    },
    {
     "data": {
      "image/png": "[encoded data removed]",
      "text/plain": [
       "<Figure size 1200x500 with 6 Axes>"
      ]
     },
     "metadata": {},
     "output_type": "display_data"
    }
   ],
   "source": [
    "fig,axs = plt.subplots(nrows=2, ncols=3, figsize=(12,5), tight_layout = True)\n",
    "\n",
    "cols = df_scores_best.columns[2:].to_list()\n",
    "\n",
    "for ax, col in zip(axs.flatten(), cols):\n",
    "\n",
    "    b = sns.boxplot( y=col, data=df_scores_best, ax=ax, showmeans=True)\n",
    "\n",
    "    b.set_xticklabels(b.get_xticklabels(), fontsize=7)\n",
    "\n",
    "plt.show()"
   ]
  },
  {
   "cell_type": "markdown",
   "metadata": {},
   "source": [
    "### Verificando a importancia das features para o peso do modelo"
   ]
  },
  {
   "cell_type": "code",
   "execution_count": 30,
   "metadata": {},
   "outputs": [
    {
     "name": "stderr",
     "output_type": "stream",
     "text": [
      "c:\\Users\\gustavo.martins\\AppData\\Local\\Programs\\Python\\Python312\\Lib\\site-packages\\sklearn\\linear_model\\_sag.py:350: ConvergenceWarning: The max_iter was reached which means the coef_ did not converge\n",
      "  warnings.warn(\n"
     ]
    }
   ],
   "source": [
    "pipeline_log_reg_best.fit(X,y)\n",
    "names = pipeline_log_reg_best[:-1].get_feature_names_out()"
   ]
  },
  {
   "cell_type": "code",
   "execution_count": 32,
   "metadata": {},
   "outputs": [],
   "source": [
    "importance = pipeline_log_reg_best['model'].coef_[0]"
   ]
  },
  {
   "cell_type": "code",
   "execution_count": 33,
   "metadata": {},
   "outputs": [
    {
     "data": {
      "text/html": [
       "<div>\n",
       "<style scoped>\n",
       "    .dataframe tbody tr th:only-of-type {\n",
       "        vertical-align: middle;\n",
       "    }\n",
       "\n",
       "    .dataframe tbody tr th {\n",
       "        vertical-align: top;\n",
       "    }\n",
       "\n",
       "    .dataframe thead th {\n",
       "        text-align: right;\n",
       "    }\n",
       "</style>\n",
       "<table border=\"1\" class=\"dataframe\">\n",
       "  <thead>\n",
       "    <tr style=\"text-align: right;\">\n",
       "      <th></th>\n",
       "      <th>name</th>\n",
       "      <th>importance</th>\n",
       "    </tr>\n",
       "  </thead>\n",
       "  <tbody>\n",
       "    <tr>\n",
       "      <th>18</th>\n",
       "      <td>minmax__Recency</td>\n",
       "      <td>-3.087456</td>\n",
       "    </tr>\n",
       "    <tr>\n",
       "      <th>14</th>\n",
       "      <td>one-hot__AcceptedCmpTotal_1</td>\n",
       "      <td>-1.927740</td>\n",
       "    </tr>\n",
       "    <tr>\n",
       "      <th>15</th>\n",
       "      <td>one-hot__AcceptedCmpTotal_2</td>\n",
       "      <td>-1.049683</td>\n",
       "    </tr>\n",
       "    <tr>\n",
       "      <th>24</th>\n",
       "      <td>power__MntProds</td>\n",
       "      <td>-0.822502</td>\n",
       "    </tr>\n",
       "    <tr>\n",
       "      <th>2</th>\n",
       "      <td>one-hot__HasAcceptedCmp_0</td>\n",
       "      <td>-0.803894</td>\n",
       "    </tr>\n",
       "    <tr>\n",
       "      <th>13</th>\n",
       "      <td>one-hot__AcceptedCmpTotal_0</td>\n",
       "      <td>-0.803894</td>\n",
       "    </tr>\n",
       "    <tr>\n",
       "      <th>17</th>\n",
       "      <td>one-hot__cluster_1</td>\n",
       "      <td>-0.774799</td>\n",
       "    </tr>\n",
       "    <tr>\n",
       "      <th>20</th>\n",
       "      <td>power__MntWines</td>\n",
       "      <td>-0.667209</td>\n",
       "    </tr>\n",
       "    <tr>\n",
       "      <th>16</th>\n",
       "      <td>one-hot__AcceptedCmpTotal_3</td>\n",
       "      <td>-0.616180</td>\n",
       "    </tr>\n",
       "    <tr>\n",
       "      <th>6</th>\n",
       "      <td>one-hot__AcceptedCmp3_0</td>\n",
       "      <td>-0.504209</td>\n",
       "    </tr>\n",
       "    <tr>\n",
       "      <th>4</th>\n",
       "      <td>one-hot__AcceptedCmp1_0</td>\n",
       "      <td>-0.167865</td>\n",
       "    </tr>\n",
       "    <tr>\n",
       "      <th>10</th>\n",
       "      <td>one-hot__AcceptedCmp5_0</td>\n",
       "      <td>-0.148673</td>\n",
       "    </tr>\n",
       "    <tr>\n",
       "      <th>1</th>\n",
       "      <td>one-hot__HasChildren_1</td>\n",
       "      <td>0.063213</td>\n",
       "    </tr>\n",
       "    <tr>\n",
       "      <th>8</th>\n",
       "      <td>one-hot__AcceptedCmp4_0</td>\n",
       "      <td>0.175045</td>\n",
       "    </tr>\n",
       "    <tr>\n",
       "      <th>9</th>\n",
       "      <td>one-hot__AcceptedCmp4_1</td>\n",
       "      <td>0.272959</td>\n",
       "    </tr>\n",
       "    <tr>\n",
       "      <th>22</th>\n",
       "      <td>power__NumCatalogPurchases</td>\n",
       "      <td>0.302926</td>\n",
       "    </tr>\n",
       "    <tr>\n",
       "      <th>0</th>\n",
       "      <td>one-hot__HasChildren_0</td>\n",
       "      <td>0.384791</td>\n",
       "    </tr>\n",
       "    <tr>\n",
       "      <th>12</th>\n",
       "      <td>one-hot__Children_0</td>\n",
       "      <td>0.384791</td>\n",
       "    </tr>\n",
       "    <tr>\n",
       "      <th>23</th>\n",
       "      <td>power__MntTotal</td>\n",
       "      <td>0.416450</td>\n",
       "    </tr>\n",
       "    <tr>\n",
       "      <th>11</th>\n",
       "      <td>one-hot__AcceptedCmp5_1</td>\n",
       "      <td>0.596678</td>\n",
       "    </tr>\n",
       "    <tr>\n",
       "      <th>5</th>\n",
       "      <td>one-hot__AcceptedCmp1_1</td>\n",
       "      <td>0.615869</td>\n",
       "    </tr>\n",
       "    <tr>\n",
       "      <th>7</th>\n",
       "      <td>one-hot__AcceptedCmp3_1</td>\n",
       "      <td>0.952213</td>\n",
       "    </tr>\n",
       "    <tr>\n",
       "      <th>21</th>\n",
       "      <td>power__MntMeatProducts</td>\n",
       "      <td>1.172489</td>\n",
       "    </tr>\n",
       "    <tr>\n",
       "      <th>3</th>\n",
       "      <td>one-hot__HasAcceptedCmp_1</td>\n",
       "      <td>1.251898</td>\n",
       "    </tr>\n",
       "    <tr>\n",
       "      <th>19</th>\n",
       "      <td>minmax__DaysSinceEnrolled</td>\n",
       "      <td>3.805036</td>\n",
       "    </tr>\n",
       "  </tbody>\n",
       "</table>\n",
       "</div>"
      ],
      "text/plain": [
       "                           name  importance\n",
       "18              minmax__Recency   -3.087456\n",
       "14  one-hot__AcceptedCmpTotal_1   -1.927740\n",
       "15  one-hot__AcceptedCmpTotal_2   -1.049683\n",
       "24              power__MntProds   -0.822502\n",
       "2     one-hot__HasAcceptedCmp_0   -0.803894\n",
       "13  one-hot__AcceptedCmpTotal_0   -0.803894\n",
       "17           one-hot__cluster_1   -0.774799\n",
       "20              power__MntWines   -0.667209\n",
       "16  one-hot__AcceptedCmpTotal_3   -0.616180\n",
       "6       one-hot__AcceptedCmp3_0   -0.504209\n",
       "4       one-hot__AcceptedCmp1_0   -0.167865\n",
       "10      one-hot__AcceptedCmp5_0   -0.148673\n",
       "1        one-hot__HasChildren_1    0.063213\n",
       "8       one-hot__AcceptedCmp4_0    0.175045\n",
       "9       one-hot__AcceptedCmp4_1    0.272959\n",
       "22   power__NumCatalogPurchases    0.302926\n",
       "0        one-hot__HasChildren_0    0.384791\n",
       "12          one-hot__Children_0    0.384791\n",
       "23              power__MntTotal    0.416450\n",
       "11      one-hot__AcceptedCmp5_1    0.596678\n",
       "5       one-hot__AcceptedCmp1_1    0.615869\n",
       "7       one-hot__AcceptedCmp3_1    0.952213\n",
       "21       power__MntMeatProducts    1.172489\n",
       "3     one-hot__HasAcceptedCmp_1    1.251898\n",
       "19    minmax__DaysSinceEnrolled    3.805036"
      ]
     },
     "execution_count": 33,
     "metadata": {},
     "output_type": "execute_result"
    }
   ],
   "source": [
    "df_importance = pd.DataFrame(\n",
    "    {\n",
    "        'name': names,\n",
    "        'importance': importance\n",
    "    }\n",
    ")\n",
    "\n",
    "df_importance.sort_values(by='importance')"
   ]
  },
  {
   "cell_type": "code",
   "execution_count": 34,
   "metadata": {},
   "outputs": [
    {
     "data": {
      "image/png": "[encoded data removed]",
      "text/plain": [
       "<Figure size 640x480 with 1 Axes>"
      ]
     },
     "metadata": {},
     "output_type": "display_data"
    }
   ],
   "source": [
    "#ROC\n",
    "\n",
    "from sklearn.metrics import RocCurveDisplay\n",
    "from sklearn.model_selection import cross_val_predict\n",
    "\n",
    "y_pred = cross_val_predict(pipeline_log_reg_best,X,y, cv=skf, n_jobs=-1)\n",
    "\n",
    "roc=RocCurveDisplay.from_predictions(y,y_pred)"
   ]
  },
  {
   "cell_type": "code",
   "execution_count": 35,
   "metadata": {},
   "outputs": [
    {
     "data": {
      "image/png": "[encoded data removed]",
      "text/plain": [
       "<Figure size 640x480 with 1 Axes>"
      ]
     },
     "metadata": {},
     "output_type": "display_data"
    }
   ],
   "source": [
    "#Precision-Recall\n",
    "\n",
    "from sklearn.metrics import PrecisionRecallDisplay\n",
    "\n",
    "y_pred = cross_val_predict(pipeline_log_reg_best,X,y, cv=skf, n_jobs=-1, method='decision_function')\n",
    "\n",
    "prc=PrecisionRecallDisplay.from_predictions(y,y_pred)"
   ]
  },
  {
   "cell_type": "code",
   "execution_count": null,
   "metadata": {},
   "outputs": [],
   "source": []
  }
 ],
 "metadata": {
  "kernelspec": {
   "display_name": "Python 3",
   "language": "python",
   "name": "python3"
  },
  "language_info": {
   "codemirror_mode": {
    "name": "ipython",
    "version": 3
   },
   "file_extension": ".py",
   "mimetype": "text/x-python",
   "name": "python",
   "nbconvert_exporter": "python",
   "pygments_lexer": "ipython3",
   "version": "3.12.0"
  }
 },
 "nbformat": 4,
 "nbformat_minor": 2
}
